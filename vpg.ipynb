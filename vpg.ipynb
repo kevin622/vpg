{
 "cells": [
  {
   "cell_type": "markdown",
   "metadata": {},
   "source": [
    "# Setting Up Gym Environment"
   ]
  },
  {
   "cell_type": "code",
   "execution_count": 1,
   "metadata": {
    "ExecuteTime": {
     "end_time": "2022-01-06T08:18:13.152770Z",
     "start_time": "2022-01-06T08:18:11.231987Z"
    }
   },
   "outputs": [],
   "source": [
    "import gym"
   ]
  },
  {
   "cell_type": "markdown",
   "metadata": {},
   "source": [
    "## Cartpole Environment"
   ]
  },
  {
   "cell_type": "code",
   "execution_count": 2,
   "metadata": {
    "ExecuteTime": {
     "end_time": "2022-01-06T08:18:13.202582Z",
     "start_time": "2022-01-06T08:18:13.172308Z"
    }
   },
   "outputs": [],
   "source": [
    "env = gym.make('CartPole-v0')"
   ]
  },
  {
   "cell_type": "markdown",
   "metadata": {},
   "source": [
    "The rendered window env might stay unresponsive and some say this is due to jupyter notebook visualization problems.  \n",
    "Looking for a way to solve this."
   ]
  },
  {
   "cell_type": "code",
   "execution_count": 3,
   "metadata": {
    "ExecuteTime": {
     "end_time": "2022-01-06T08:18:14.779280Z",
     "start_time": "2022-01-06T08:18:14.754354Z"
    },
    "scrolled": false
   },
   "outputs": [
    {
     "name": "stdout",
     "output_type": "stream",
     "text": [
      "[ 0.02699665 -0.24144292 -0.04998176  0.24238946] 1.0 False {}\n",
      "[ 0.02216779 -0.43581662 -0.04513397  0.51889735] 1.0 False {}\n",
      "[ 0.01345146 -0.24008925 -0.03475602  0.21234043] 1.0 False {}\n",
      "[ 0.00864967 -0.04448806 -0.03050921 -0.09110037] 1.0 False {}\n",
      "[ 0.00775991 -0.23915973 -0.03233122  0.19180292] 1.0 False {}\n",
      "[ 0.00297671 -0.04359054 -0.02849516 -0.11090128] 1.0 False {}\n",
      "[ 0.0021049   0.15192789 -0.03071319 -0.41243634] 1.0 False {}\n",
      "[ 0.00514346  0.34747145 -0.03896192 -0.7146416 ] 1.0 False {}\n",
      "[ 0.01209289  0.5431105  -0.05325475 -1.0193293 ] 1.0 False {}\n",
      "[ 0.0229551   0.7389002  -0.07364134 -1.3282471 ] 1.0 False {}\n"
     ]
    }
   ],
   "source": [
    "env.reset()\n",
    "# let's see 10 timesteps with random action\n",
    "for _ in range(10):\n",
    "    # env.render()\n",
    "    observation, reward, done, info = env.step(env.action_space.sample())\n",
    "    print(observation, reward, done, info)\n",
    "    if done:\n",
    "        break\n",
    "# env.close()"
   ]
  },
  {
   "cell_type": "markdown",
   "metadata": {},
   "source": [
    "Using GIF looks possible : https://rrbb014.tistory.com/44#openai-gym%EC%9D%84-jupyter-notebook%ED%99%98%EA%B2%BD%EC%97%90%EC%84%9C-%EC%8B%A4%ED%96%89%ED%95%98%EA%B8%B0-headless-playing"
   ]
  },
  {
   "cell_type": "markdown",
   "metadata": {},
   "source": [
    "## Matplotlib will be used for visualizing results"
   ]
  },
  {
   "cell_type": "markdown",
   "metadata": {},
   "source": [
    "When the whole training is going on, the graph will be the mean survived timesteps for each epochs."
   ]
  },
  {
   "cell_type": "code",
   "execution_count": 4,
   "metadata": {
    "ExecuteTime": {
     "end_time": "2022-01-06T08:18:16.211864Z",
     "start_time": "2022-01-06T08:18:15.382556Z"
    }
   },
   "outputs": [
    {
     "data": {
      "text/plain": [
       "[<matplotlib.lines.Line2D at 0x7f7fd90c11f0>]"
      ]
     },
     "execution_count": 4,
     "metadata": {},
     "output_type": "execute_result"
    },
    {
     "data": {
      "image/png": "[encoded data removed]",
      "text/plain": [
       "<Figure size 432x288 with 1 Axes>"
      ]
     },
     "metadata": {
      "needs_background": "light"
     },
     "output_type": "display_data"
    }
   ],
   "source": [
    "import matplotlib.pyplot as plt\n",
    "plt.plot([1,2,2,2,3,4,5,5])"
   ]
  },
  {
   "cell_type": "markdown",
   "metadata": {},
   "source": [
    "## pytorch"
   ]
  },
  {
   "cell_type": "code",
   "execution_count": 5,
   "metadata": {
    "ExecuteTime": {
     "end_time": "2022-01-06T08:18:20.763243Z",
     "start_time": "2022-01-06T08:18:16.215199Z"
    }
   },
   "outputs": [],
   "source": [
    "import torch\n",
    "from torch import nn, optim\n",
    "import torch.nn.functional as F\n",
    "import numpy as np"
   ]
  },
  {
   "cell_type": "markdown",
   "metadata": {},
   "source": [
    "Simple Linear NN for the policy. It is from a code in CS285 lecture 3, except it uses softmax at the output layer."
   ]
  },
  {
   "cell_type": "code",
   "execution_count": 6,
   "metadata": {
    "ExecuteTime": {
     "end_time": "2022-01-06T08:18:20.774379Z",
     "start_time": "2022-01-06T08:18:20.767148Z"
    }
   },
   "outputs": [],
   "source": [
    "class Net(nn.Module):\n",
    "    def __init__(self, input_size=4, output_size=2):\n",
    "        super(Net, self).__init__()\n",
    "        self.fc1 = nn.Linear(input_size, 32)\n",
    "        self.fc2 = nn.Linear(32, 32)\n",
    "        self.fc3 = nn.Linear(32, output_size)\n",
    "\n",
    "    def forward(self, x):\n",
    "        x = F.relu(self.fc1(x))\n",
    "        x = F.relu(self.fc2(x))\n",
    "        x = F.softmax(self.fc3(x), dim=-1)\n",
    "        return x      "
   ]
  },
  {
   "cell_type": "code",
   "execution_count": 7,
   "metadata": {
    "ExecuteTime": {
     "end_time": "2022-01-06T08:18:20.803330Z",
     "start_time": "2022-01-06T08:18:20.780071Z"
    }
   },
   "outputs": [
    {
     "name": "stdout",
     "output_type": "stream",
     "text": [
      "Net(\n",
      "  (fc1): Linear(in_features=4, out_features=32, bias=True)\n",
      "  (fc2): Linear(in_features=32, out_features=32, bias=True)\n",
      "  (fc3): Linear(in_features=32, out_features=2, bias=True)\n",
      ")\n"
     ]
    }
   ],
   "source": [
    "net = Net()\n",
    "print(net)"
   ]
  },
  {
   "cell_type": "markdown",
   "metadata": {},
   "source": [
    "# Mathematics"
   ]
  },
  {
   "cell_type": "markdown",
   "metadata": {},
   "source": [
    "$$\n",
    "\\nabla_\\theta J(\\theta) \\approx \\frac{1}{N} \\sum_{i=1}^{N} \\sum_{t=1}^{T} \\nabla_\\theta \\log{\\pi_\\theta \\left( a_{i,t} | s_{i,t} \\right)}  \\left( \\sum_{t^\\prime=t}^{T} r\\left( s_{i,t}, a_{i,t} \\right) \\right) \\\\\n",
    "J(\\theta) = E_{\\tau~p_\\theta(\\tau)}\\left[ \\sum_{t}r(s_t, a_t) \\right] \\approx \\frac{1}{N}\\sum_i\\sum_{t}r(s_{i,t}, a_{i,t}) \\\\\n",
    "\\tilde{J}(\\theta) \\approx \\frac{1}{N}\\sum_{i=1}^N\\sum_{t=1}^T \\log{\\pi_\\theta \\left( a_{i,t} | s_{i,t} \\right)} \\hat{Q}_{i,t} \\\\\n",
    "$$"
   ]
  },
  {
   "cell_type": "markdown",
   "metadata": {},
   "source": [
    "$-\\tilde{J}(\\theta)$ will be used as the loss function"
   ]
  },
  {
   "cell_type": "markdown",
   "metadata": {},
   "source": [
    "# The codes that will run to train"
   ]
  },
  {
   "cell_type": "code",
   "execution_count": 9,
   "metadata": {
    "ExecuteTime": {
     "end_time": "2022-01-06T08:18:20.900724Z",
     "start_time": "2022-01-06T08:18:20.890892Z"
    }
   },
   "outputs": [],
   "source": [
    "from tqdm import tqdm # to visualize the progress\n",
    "N = 1000 # number of samples(trajectories) for each iteration\n",
    "max_traj_len = 100 # T(max length of the trajectory)\n",
    "net = Net()\n",
    "\n",
    "# loss function is -(J tilde) (on the equation above)\n",
    "def loss_fn(net_val, q_val):\n",
    "    return -(torch.sum(torch.log(net_val) * q_val, dim=-1)) / N\n",
    "\n",
    "# using Adam optimizer (because in the lecture it was mentioned to be okay)\n",
    "# the learning rate is from the codes of lecture 3\n",
    "optimizer = optim.Adam(net.parameters(), lr=1e-3)"
   ]
  },
  {
   "cell_type": "markdown",
   "metadata": {},
   "source": [
    "## run the policy to create N samples"
   ]
  },
  {
   "cell_type": "code",
   "execution_count": 10,
   "metadata": {
    "ExecuteTime": {
     "end_time": "2022-01-06T08:18:26.783103Z",
     "start_time": "2022-01-06T08:18:24.724053Z"
    },
    "scrolled": true
   },
   "outputs": [
    {
     "name": "stderr",
     "output_type": "stream",
     "text": [
      "100%|██████████| 1000/1000 [00:02<00:00, 493.77it/s]\n"
     ]
    }
   ],
   "source": [
    "# new samples for every update, because VPG is an On-policy algorithm\n",
    "samples = []\n",
    "\n",
    "for sample_i in tqdm(range(N)):\n",
    "    # initial state\n",
    "    observation = env.reset()\n",
    "    one_traj = []\n",
    "    for traj_step in range(max_traj_len):\n",
    "        # env.render()\n",
    "        action = net(torch.from_numpy(observation)).detach().numpy().argmax()\n",
    "        observation, reward, done, info = env.step(action)\n",
    "        one_traj.append([observation, action, reward])\n",
    "        if done or traj_step == (max_traj_len - 1):\n",
    "            samples.append(one_traj)\n",
    "            break\n",
    "# env.close()"
   ]
  },
  {
   "cell_type": "code",
   "execution_count": 11,
   "metadata": {
    "ExecuteTime": {
     "end_time": "2022-01-06T08:18:26.819316Z",
     "start_time": "2022-01-06T08:18:26.788748Z"
    }
   },
   "outputs": [],
   "source": [
    "# Getting the q-values(reward to go)\n",
    "q_values = []\n",
    "for sample in samples:\n",
    "    temp = []\n",
    "    for i in range(len(sample)):\n",
    "        q = 0\n",
    "        for t in range(i, len(sample)):\n",
    "            q += sample[t][2]\n",
    "        temp.append(q)\n",
    "    q_values.append(temp)"
   ]
  },
  {
   "cell_type": "code",
   "execution_count": 12,
   "metadata": {
    "ExecuteTime": {
     "end_time": "2022-01-06T08:18:26.833817Z",
     "start_time": "2022-01-06T08:18:26.823673Z"
    }
   },
   "outputs": [],
   "source": [
    "# appending the q_values to the 'samples' list\n",
    "for i in range(len(q_values)):\n",
    "    for j in range(len(q_values[i])):\n",
    "        samples[i][j].append(q_values[i][j])"
   ]
  },
  {
   "cell_type": "code",
   "execution_count": 13,
   "metadata": {
    "ExecuteTime": {
     "end_time": "2022-01-06T08:18:26.884332Z",
     "start_time": "2022-01-06T08:18:26.840184Z"
    }
   },
   "outputs": [],
   "source": [
    "# shape of the list 'samples' => [trajectory][state, action, reward, q_value(reward to go)]\n",
    "# making a list(soon will be changed to tensors) for actions, states, q_values\n",
    "actions = []\n",
    "states = []\n",
    "q_values = []\n",
    "for sample in samples:\n",
    "    for state, action, reward, q_value in sample:\n",
    "        states.append(state)\n",
    "        actions.append(action)\n",
    "        q_values.append(q_value)\n",
    "\n",
    "actions = torch.from_numpy(np.array(actions))\n",
    "states = torch.from_numpy(np.array(states))\n",
    "q_values = torch.from_numpy(np.array(q_values))\n",
    "net_values = net(states).max(dim=1).values"
   ]
  },
  {
   "cell_type": "code",
   "execution_count": null,
   "metadata": {},
   "outputs": [],
   "source": []
  },
  {
   "cell_type": "markdown",
   "metadata": {},
   "source": [
    "## backprop"
   ]
  },
  {
   "cell_type": "code",
   "execution_count": 15,
   "metadata": {
    "ExecuteTime": {
     "end_time": "2022-01-06T08:18:46.836110Z",
     "start_time": "2022-01-06T08:18:46.769973Z"
    }
   },
   "outputs": [],
   "source": [
    "optimizer.zero_grad()\n",
    "loss.backward()\n",
    "optimizer.step()"
   ]
  },
  {
   "cell_type": "markdown",
   "metadata": {},
   "source": [
    "# All the codes for learning"
   ]
  },
  {
   "cell_type": "code",
   "execution_count": 49,
   "metadata": {
    "ExecuteTime": {
     "end_time": "2022-01-06T10:46:55.783885Z",
     "start_time": "2022-01-06T10:18:22.825615Z"
    }
   },
   "outputs": [
    {
     "name": "stderr",
     "output_type": "stream",
     "text": [
      "100%|██████████| 50/50 [28:32<00:00, 34.26s/it] \n"
     ]
    }
   ],
   "source": [
    "N = 10000\n",
    "max_traj_len = 100 # T\n",
    "net = Net()\n",
    "\n",
    "def loss_fn(net_val, q_val):\n",
    "    return (torch.sum(torch.log(net_val) * q_val)) / N\n",
    "\n",
    "optimizer = optim.Adam(net.parameters(), lr=1e-3)\n",
    "\n",
    "lasted_times = []\n",
    "losses = []\n",
    "\n",
    "\n",
    "# epoch size\n",
    "epoch_size = 50\n",
    "for _ in tqdm(range(epoch_size)):\n",
    "    samples = [] # new samples, because VPG is on policy algo\n",
    "    one_epoch_lasted_times = []\n",
    "    for sample_i in range(N):\n",
    "        # initial state\n",
    "        observation = env.reset()\n",
    "        one_traj = []\n",
    "        for traj_step in range(max_traj_len):\n",
    "            # env.render()\n",
    "            action = net(torch.from_numpy(observation)).detach().numpy().argmax()\n",
    "            observation, reward, done, info = env.step(action)\n",
    "            one_traj.append([observation, action, reward])\n",
    "            if done or traj_step == (max_traj_len - 1):\n",
    "                samples.append(one_traj)\n",
    "                one_epoch_lasted_times.append(traj_step + 1)\n",
    "                break\n",
    "    lasted_times.append(sum(one_epoch_lasted_times) / len(one_epoch_lasted_times))\n",
    "                \n",
    "    # env.close()\n",
    "    # Getting the q-values(reward to go)\n",
    "    q_values = []\n",
    "    for sample in samples:\n",
    "        temp = []\n",
    "        for i in range(len(sample)):\n",
    "            q = 0\n",
    "            for t in range(i, len(sample)):\n",
    "                q += sample[t][2]\n",
    "            temp.append(q)\n",
    "        q_values.append(temp)\n",
    "    \n",
    "    # appending the q values to the samples list\n",
    "    for i in range(len(q_values)):\n",
    "        for j in range(len(q_values[i])):\n",
    "            samples[i][j].append(q_values[i][j])\n",
    "    \n",
    "    # sample shape => [trajectory][state, action, reward, q_value(reward to go)]\n",
    "    # make torch.tensors for actions, states, q_values\n",
    "    actions = []\n",
    "    states = []\n",
    "    q_values = []\n",
    "    for sample in samples:\n",
    "        for state, action, reward, q_value in sample:\n",
    "            states.append(state)\n",
    "            actions.append(action)\n",
    "            q_values.append(q_value)\n",
    "\n",
    "    actions = torch.from_numpy(np.array(actions))\n",
    "    states = torch.from_numpy(np.array(states))\n",
    "    q_values = torch.from_numpy(np.array(q_values))\n",
    "    net_values = net(states).max(dim=1).values\n",
    "    \n",
    "    loss = loss_fn(net_val=net_values, q_val=q_values)\n",
    "    losses.append(loss)\n",
    "    optimizer.zero_grad()\n",
    "    loss.backward()\n",
    "    optimizer.step()"
   ]
  },
  {
   "cell_type": "markdown",
   "metadata": {},
   "source": [
    "# Visualize the lasted time for Epochs"
   ]
  },
  {
   "cell_type": "code",
   "execution_count": 50,
   "metadata": {
    "ExecuteTime": {
     "end_time": "2022-01-06T10:46:56.113552Z",
     "start_time": "2022-01-06T10:46:55.802115Z"
    }
   },
   "outputs": [
    {
     "data": {
      "image/png": "[encoded data removed]",
      "text/plain": [
       "<Figure size 432x288 with 1 Axes>"
      ]
     },
     "metadata": {
      "needs_background": "light"
     },
     "output_type": "display_data"
    }
   ],
   "source": [
    "import matplotlib.pyplot as plt\n",
    "plt.plot(lasted_times);"
   ]
  },
  {
   "cell_type": "code",
   "execution_count": 52,
   "metadata": {
    "ExecuteTime": {
     "end_time": "2022-01-06T10:51:13.390780Z",
     "start_time": "2022-01-06T10:51:13.008226Z"
    }
   },
   "outputs": [
    {
     "data": {
      "image/png": "[encoded data removed]",
      "text/plain": [
       "<Figure size 432x288 with 1 Axes>"
      ]
     },
     "metadata": {
      "needs_background": "light"
     },
     "output_type": "display_data"
    }
   ],
   "source": [
    "plt.plot(losses);"
   ]
  }
 ],
 "metadata": {
  "kernelspec": {
   "display_name": "Python 3",
   "language": "python",
   "name": "python3"
  },
  "language_info": {
   "codemirror_mode": {
    "name": "ipython",
    "version": 3
   },
   "file_extension": ".py",
   "mimetype": "text/x-python",
   "name": "python",
   "nbconvert_exporter": "python",
   "pygments_lexer": "ipython3",
   "version": "3.8.5"
  },
  "toc": {
   "base_numbering": 1,
   "nav_menu": {},
   "number_sections": true,
   "sideBar": true,
   "skip_h1_title": false,
   "title_cell": "Table of Contents",
   "title_sidebar": "Contents",
   "toc_cell": false,
   "toc_position": {},
   "toc_section_display": true,
   "toc_window_display": true
  }
 },
 "nbformat": 4,
 "nbformat_minor": 4
}
