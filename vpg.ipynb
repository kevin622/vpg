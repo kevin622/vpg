{
 "cells": [
  {
   "cell_type": "markdown",
   "metadata": {},
   "source": [
    "# Setting Up Environment"
   ]
  },
  {
   "cell_type": "code",
   "execution_count": 1,
   "metadata": {
    "ExecuteTime": {
     "end_time": "2022-01-08T03:23:15.102596Z",
     "start_time": "2022-01-08T03:23:12.483053Z"
    }
   },
   "outputs": [],
   "source": [
    "import gym"
   ]
  },
  {
   "cell_type": "markdown",
   "metadata": {},
   "source": [
    "## Cartpole Environment"
   ]
  },
  {
   "cell_type": "code",
   "execution_count": 2,
   "metadata": {
    "ExecuteTime": {
     "end_time": "2022-01-08T03:23:15.132747Z",
     "start_time": "2022-01-08T03:23:15.106688Z"
    }
   },
   "outputs": [],
   "source": [
    "env = gym.make('CartPole-v0')"
   ]
  },
  {
   "cell_type": "markdown",
   "metadata": {},
   "source": [
    "The rendered window env might stay unresponsive and some say this is due to jupyter notebook visualization problems.  \n",
    "Looking for a way to solve this."
   ]
  },
  {
   "cell_type": "markdown",
   "metadata": {},
   "source": [
    "Using GIF looks like one solution : https://rrbb014.tistory.com/44#openai-gym%EC%9D%84-jupyter-notebook%ED%99%98%EA%B2%BD%EC%97%90%EC%84%9C-%EC%8B%A4%ED%96%89%ED%95%98%EA%B8%B0-headless-playing"
   ]
  },
  {
   "cell_type": "code",
   "execution_count": 3,
   "metadata": {
    "ExecuteTime": {
     "end_time": "2022-01-08T03:23:18.369008Z",
     "start_time": "2022-01-08T03:23:18.336467Z"
    },
    "scrolled": false
   },
   "outputs": [
    {
     "name": "stdout",
     "output_type": "stream",
     "text": [
      "[ 0.04035619  0.18557622 -0.01346618 -0.29823756] 1.0 False {}\n",
      "[ 0.04406772 -0.00935122 -0.01943093 -0.00983186] 1.0 False {}\n",
      "[ 0.04388069  0.18604393 -0.01962757 -0.3085816 ] 1.0 False {}\n",
      "[ 0.04760157  0.38143995 -0.0257992  -0.60738933] 1.0 False {}\n",
      "[ 0.05523037  0.57691294 -0.03794698 -0.90808535] 1.0 False {}\n",
      "[ 0.06676863  0.77252746 -0.05610869 -1.2124497 ] 1.0 False {}\n",
      "[ 0.08221918  0.9683269  -0.08035769 -1.5221739 ] 1.0 False {}\n",
      "[ 0.10158572  1.1643225  -0.11080117 -1.8388183 ] 1.0 False {}\n",
      "[ 0.12487217  0.9705852  -0.14757752 -1.5825033 ] 1.0 False {}\n",
      "[ 0.14428388  1.1671228  -0.1792276  -1.9173357 ] 1.0 False {}\n"
     ]
    }
   ],
   "source": [
    "env.reset()\n",
    "# let's see 10 timesteps with random action\n",
    "for _ in range(10):\n",
    "    # env.render()\n",
    "    observation, reward, done, info = env.step(env.action_space.sample())\n",
    "    print(observation, reward, done, info)\n",
    "    if done:\n",
    "        break\n",
    "# env.close()"
   ]
  },
  {
   "cell_type": "markdown",
   "metadata": {},
   "source": [
    "## Visualizing results"
   ]
  },
  {
   "cell_type": "markdown",
   "metadata": {},
   "source": [
    "When the whole training is going on, the graph will be the mean survived timesteps for each epochs.\n",
    "\n",
    "And the loss graph."
   ]
  },
  {
   "cell_type": "code",
   "execution_count": 4,
   "metadata": {
    "ExecuteTime": {
     "end_time": "2022-01-08T03:23:24.897138Z",
     "start_time": "2022-01-08T03:23:23.591789Z"
    }
   },
   "outputs": [
    {
     "data": {
      "image/png": "[encoded data removed]",
      "text/plain": [
       "<Figure size 432x288 with 1 Axes>"
      ]
     },
     "metadata": {
      "needs_background": "light"
     },
     "output_type": "display_data"
    }
   ],
   "source": [
    "import matplotlib.pyplot as plt\n",
    "plt.plot([1,2,2,2,3,4,5,5]);"
   ]
  },
  {
   "cell_type": "markdown",
   "metadata": {},
   "source": [
    "## Model(for policy)"
   ]
  },
  {
   "cell_type": "code",
   "execution_count": 5,
   "metadata": {
    "ExecuteTime": {
     "end_time": "2022-01-08T03:23:38.645124Z",
     "start_time": "2022-01-08T03:23:35.151233Z"
    }
   },
   "outputs": [],
   "source": [
    "import torch\n",
    "from torch import nn, optim\n",
    "import torch.nn.functional as F\n",
    "from torch.distributions.categorical import Categorical\n",
    "import numpy as np"
   ]
  },
  {
   "cell_type": "markdown",
   "metadata": {},
   "source": [
    "Simple Linear NN for the policy. It is from a code in CS285 lecture 3, except it uses softmax at the output layer."
   ]
  },
  {
   "cell_type": "code",
   "execution_count": 6,
   "metadata": {
    "ExecuteTime": {
     "end_time": "2022-01-08T03:25:06.443358Z",
     "start_time": "2022-01-08T03:25:06.399873Z"
    }
   },
   "outputs": [],
   "source": [
    "class Net(nn.Module):\n",
    "    def __init__(self, input_size=4, output_size=2):\n",
    "        super(Net, self).__init__()\n",
    "        self.fc1 = nn.Linear(input_size, 32)\n",
    "        self.fc2 = nn.Linear(32, 32)\n",
    "        self.fc3 = nn.Linear(32, output_size)\n",
    "\n",
    "    def forward(self, x):\n",
    "        x = F.relu(self.fc1(x))\n",
    "        x = F.relu(self.fc2(x))\n",
    "        x = F.softmax(self.fc3(x), dim=-1)\n",
    "        return x      "
   ]
  },
  {
   "cell_type": "code",
   "execution_count": 7,
   "metadata": {
    "ExecuteTime": {
     "end_time": "2022-01-08T03:25:10.257791Z",
     "start_time": "2022-01-08T03:25:10.047557Z"
    }
   },
   "outputs": [
    {
     "name": "stdout",
     "output_type": "stream",
     "text": [
      "Net(\n",
      "  (fc1): Linear(in_features=4, out_features=32, bias=True)\n",
      "  (fc2): Linear(in_features=32, out_features=32, bias=True)\n",
      "  (fc3): Linear(in_features=32, out_features=2, bias=True)\n",
      ")\n",
      "tensor([[0.5155, 0.4845],\n",
      "        [0.4961, 0.5039]], grad_fn=<SoftmaxBackward0>)\n"
     ]
    }
   ],
   "source": [
    "net = Net()\n",
    "print(net)\n",
    "\n",
    "# example of input\n",
    "print(net(torch.tensor([[1., 2., 3., 4.], [2., 3., 2., 2.]])))"
   ]
  },
  {
   "cell_type": "markdown",
   "metadata": {},
   "source": [
    "# Mathematics"
   ]
  },
  {
   "cell_type": "markdown",
   "metadata": {},
   "source": [
    "$$\n",
    "\\nabla_\\theta J(\\theta) \\approx \\frac{1}{N} \\sum_{i=1}^{N} \\sum_{t=1}^{T} \\nabla_\\theta \\log{\\pi_\\theta \\left( a_{i,t} | s_{i,t} \\right)}  \\left( \\sum_{t^\\prime=t}^{T} r\\left( s_{i,t}, a_{i,t} \\right) \\right) \\\\\n",
    "J(\\theta) = E_{\\tau~p_\\theta(\\tau)}\\left[ \\sum_{t}r(s_t, a_t) \\right] \\approx \\frac{1}{N}\\sum_i\\sum_{t}r(s_{i,t}, a_{i,t}) \\\\\n",
    "\\tilde{J}(\\theta) \\approx \\frac{1}{N}\\sum_{i=1}^N\\sum_{t=1}^T \\log{\\pi_\\theta \\left( a_{i,t} | s_{i,t} \\right)} \\hat{Q}_{i,t} \\\\\n",
    "$$"
   ]
  },
  {
   "cell_type": "markdown",
   "metadata": {},
   "source": [
    "$-\\tilde{J}(\\theta)$ will be used as the loss function"
   ]
  },
  {
   "cell_type": "markdown",
   "metadata": {},
   "source": [
    "$$\n",
    "\\theta \\leftarrow \\theta + \\alpha \\nabla_\\theta J(\\theta) \\\\ = \\theta - \\alpha \\nabla_\\theta (-J(\\theta))\n",
    "$$"
   ]
  },
  {
   "cell_type": "markdown",
   "metadata": {},
   "source": [
    "# The codes that will run to train"
   ]
  },
  {
   "cell_type": "code",
   "execution_count": 8,
   "metadata": {
    "ExecuteTime": {
     "end_time": "2022-01-08T03:25:24.926036Z",
     "start_time": "2022-01-08T03:25:24.904116Z"
    }
   },
   "outputs": [],
   "source": [
    "# number of samples(trajectories) for each iteration\n",
    "N = 1000\n",
    "\n",
    "# T(max length of the trajectory)\n",
    "max_traj_len = 100\n",
    "\n",
    "# The policy object\n",
    "net = Net()"
   ]
  },
  {
   "cell_type": "markdown",
   "metadata": {},
   "source": [
    "## run the policy to create N samples"
   ]
  },
  {
   "cell_type": "markdown",
   "metadata": {},
   "source": [
    "All information about samples will be stored in a list `samples`\n",
    "\n",
    "The final shape of the list `samples` will be\n",
    "\n",
    "__[nth_trajectory] [state, action, reward, q_value(reward to go)]__"
   ]
  },
  {
   "cell_type": "code",
   "execution_count": 9,
   "metadata": {
    "ExecuteTime": {
     "end_time": "2022-01-08T03:26:25.256535Z",
     "start_time": "2022-01-08T03:26:14.441941Z"
    },
    "scrolled": false
   },
   "outputs": [
    {
     "name": "stderr",
     "output_type": "stream",
     "text": [
      "100%|██████████| 1000/1000 [00:10<00:00, 93.53it/s]"
     ]
    },
    {
     "name": "stdout",
     "output_type": "stream",
     "text": [
      "one trajectory looks like this\n",
      "[array([4.0087730e-02, 3.9988793e-02, 2.4517577e-03, 9.7314274e-05],\n",
      "      dtype=float32), 1, 1.0]\n",
      "[array([ 0.0408875 ,  0.2350755 ,  0.0024537 , -0.29181105], dtype=float32), 1, 1.0]\n",
      "[array([ 0.04558901,  0.43016237, -0.00338252, -0.5837191 ], dtype=float32), 0, 1.0]\n",
      "[array([ 0.05419226,  0.23508798, -0.0150569 , -0.29210362], dtype=float32), 0, 1.0]\n",
      "[array([ 0.05889402,  0.04018391, -0.02089897, -0.00420723], dtype=float32), 1, 1.0]\n",
      "[array([ 0.0596977 ,  0.23559925, -0.02098312, -0.30341008], dtype=float32), 0, 1.0]\n",
      "[array([ 0.06440969,  0.04078253, -0.02705132, -0.01741791], dtype=float32), 0, 1.0]\n",
      "[array([ 0.06522534, -0.15394124, -0.02739968,  0.26660877], dtype=float32), 0, 1.0]\n",
      "[array([ 0.06214651, -0.34866163, -0.0220675 ,  0.55052525], dtype=float32), 0, 1.0]\n",
      "[array([ 0.05517328, -0.5434668 , -0.011057  ,  0.8361745 ], dtype=float32), 0, 1.0]\n",
      "[array([ 0.04430394, -0.738436  ,  0.00566649,  1.1253598 ], dtype=float32), 1, 1.0]\n",
      "[array([ 0.02953522, -0.5433888 ,  0.02817369,  0.83445954], dtype=float32), 0, 1.0]\n",
      "[array([ 0.01866745, -0.73888403,  0.04486288,  1.1358681 ], dtype=float32), 1, 1.0]\n",
      "[array([ 0.00388977, -0.5443768 ,  0.06758024,  0.857586  ], dtype=float32), 0, 1.0]\n",
      "[array([-0.00699777, -0.7403512 ,  0.08473196,  1.17073   ], dtype=float32), 1, 1.0]\n",
      "[array([-0.02180479, -0.5464271 ,  0.10814656,  0.9057688 ], dtype=float32), 1, 1.0]\n",
      "[array([-0.03273333, -0.3529226 ,  0.12626193,  0.648941  ], dtype=float32), 1, 1.0]\n",
      "[array([-0.03979179, -0.15976462,  0.13924076,  0.39853293], dtype=float32), 1, 1.0]\n",
      "[array([-0.04298708,  0.03313574,  0.14721142,  0.15278745], dtype=float32), 0, 1.0]\n",
      "[array([-0.04232436, -0.16375376,  0.15026717,  0.48805135], dtype=float32), 1, 1.0]\n",
      "[array([-0.04559944,  0.0289642 ,  0.16002819,  0.24624448], dtype=float32), 1, 1.0]\n",
      "[array([-0.04502016,  0.22148184,  0.16495308,  0.0080055 ], dtype=float32), 1, 1.0]\n",
      "[array([-0.04059052,  0.41390118,  0.1651132 , -0.2284291 ], dtype=float32), 0, 1.0]\n",
      "[array([-0.03231249,  0.21685195,  0.1605446 ,  0.11144788], dtype=float32), 0, 1.0]\n",
      "[array([-0.02797545,  0.01983723,  0.16277356,  0.45016727], dtype=float32), 1, 1.0]\n",
      "[array([-0.02757871,  0.21232793,  0.17177692,  0.21289223], dtype=float32), 0, 1.0]\n",
      "[array([-0.02333215,  0.01521959,  0.17603476,  0.5544578 ], dtype=float32), 1, 1.0]\n",
      "[array([-0.02302776,  0.20748982,  0.18712391,  0.3219968 ], dtype=float32), 0, 1.0]\n",
      "[array([-0.01887796,  0.01026471,  0.19356385,  0.6673641 ], dtype=float32), 1, 1.0]\n",
      "[array([-0.01867267,  0.2022433 ,  0.20691113,  0.4413271 ], dtype=float32), 0, 1.0]\n"
     ]
    },
    {
     "name": "stderr",
     "output_type": "stream",
     "text": [
      "\n"
     ]
    }
   ],
   "source": [
    "from tqdm import tqdm # to visualize the progress\n",
    "\n",
    "# new samples for every update, because VPG is an On-policy algorithm\n",
    "samples = []\n",
    "\n",
    "for sample_i in tqdm(range(N)):\n",
    "    # initial state\n",
    "    observation = env.reset()\n",
    "    one_traj = []\n",
    "    for traj_step in range(max_traj_len):\n",
    "        # rolling out the policy to get actions\n",
    "        softmax_value = net(torch.from_numpy(observation)).detach()\n",
    "        action = Categorical(softmax_value).sample().item()\n",
    "        new_observation, reward, done, info = env.step(action)\n",
    "        # append the [s, a, r] in a list\n",
    "        one_traj.append([observation, action, reward])\n",
    "        observation = new_observation\n",
    "        if done or traj_step == (max_traj_len - 1):\n",
    "            # append the trajectory in a list\n",
    "            samples.append(one_traj)\n",
    "            break\n",
    "\n",
    "print('one trajectory looks like this')\n",
    "for traj in samples[0]:\n",
    "    print(traj)"
   ]
  },
  {
   "cell_type": "markdown",
   "metadata": {},
   "source": [
    "## Getting the Q-values(reward to go)"
   ]
  },
  {
   "cell_type": "markdown",
   "metadata": {},
   "source": [
    "$$\n",
    "\\hat{Q}_{i,t} = \\sum^{T}_{t^\\prime=t}{r\\left( s_{i, t^\\prime} , a_{i, t^\\prime}\\right )}\n",
    "$$"
   ]
  },
  {
   "cell_type": "code",
   "execution_count": 10,
   "metadata": {
    "ExecuteTime": {
     "end_time": "2022-01-08T03:28:46.446897Z",
     "start_time": "2022-01-08T03:28:46.287186Z"
    }
   },
   "outputs": [
    {
     "name": "stdout",
     "output_type": "stream",
     "text": [
      "Now, one trajectory looks like this\n",
      "[array([4.0087730e-02, 3.9988793e-02, 2.4517577e-03, 9.7314274e-05],\n",
      "      dtype=float32), 1, 1.0, 30.0]\n",
      "[array([ 0.0408875 ,  0.2350755 ,  0.0024537 , -0.29181105], dtype=float32), 1, 1.0, 29.0]\n",
      "[array([ 0.04558901,  0.43016237, -0.00338252, -0.5837191 ], dtype=float32), 0, 1.0, 28.0]\n",
      "[array([ 0.05419226,  0.23508798, -0.0150569 , -0.29210362], dtype=float32), 0, 1.0, 27.0]\n",
      "[array([ 0.05889402,  0.04018391, -0.02089897, -0.00420723], dtype=float32), 1, 1.0, 26.0]\n",
      "[array([ 0.0596977 ,  0.23559925, -0.02098312, -0.30341008], dtype=float32), 0, 1.0, 25.0]\n",
      "[array([ 0.06440969,  0.04078253, -0.02705132, -0.01741791], dtype=float32), 0, 1.0, 24.0]\n",
      "[array([ 0.06522534, -0.15394124, -0.02739968,  0.26660877], dtype=float32), 0, 1.0, 23.0]\n",
      "[array([ 0.06214651, -0.34866163, -0.0220675 ,  0.55052525], dtype=float32), 0, 1.0, 22.0]\n",
      "[array([ 0.05517328, -0.5434668 , -0.011057  ,  0.8361745 ], dtype=float32), 0, 1.0, 21.0]\n",
      "[array([ 0.04430394, -0.738436  ,  0.00566649,  1.1253598 ], dtype=float32), 1, 1.0, 20.0]\n",
      "[array([ 0.02953522, -0.5433888 ,  0.02817369,  0.83445954], dtype=float32), 0, 1.0, 19.0]\n",
      "[array([ 0.01866745, -0.73888403,  0.04486288,  1.1358681 ], dtype=float32), 1, 1.0, 18.0]\n",
      "[array([ 0.00388977, -0.5443768 ,  0.06758024,  0.857586  ], dtype=float32), 0, 1.0, 17.0]\n",
      "[array([-0.00699777, -0.7403512 ,  0.08473196,  1.17073   ], dtype=float32), 1, 1.0, 16.0]\n",
      "[array([-0.02180479, -0.5464271 ,  0.10814656,  0.9057688 ], dtype=float32), 1, 1.0, 15.0]\n",
      "[array([-0.03273333, -0.3529226 ,  0.12626193,  0.648941  ], dtype=float32), 1, 1.0, 14.0]\n",
      "[array([-0.03979179, -0.15976462,  0.13924076,  0.39853293], dtype=float32), 1, 1.0, 13.0]\n",
      "[array([-0.04298708,  0.03313574,  0.14721142,  0.15278745], dtype=float32), 0, 1.0, 12.0]\n",
      "[array([-0.04232436, -0.16375376,  0.15026717,  0.48805135], dtype=float32), 1, 1.0, 11.0]\n",
      "[array([-0.04559944,  0.0289642 ,  0.16002819,  0.24624448], dtype=float32), 1, 1.0, 10.0]\n",
      "[array([-0.04502016,  0.22148184,  0.16495308,  0.0080055 ], dtype=float32), 1, 1.0, 9.0]\n",
      "[array([-0.04059052,  0.41390118,  0.1651132 , -0.2284291 ], dtype=float32), 0, 1.0, 8.0]\n",
      "[array([-0.03231249,  0.21685195,  0.1605446 ,  0.11144788], dtype=float32), 0, 1.0, 7.0]\n",
      "[array([-0.02797545,  0.01983723,  0.16277356,  0.45016727], dtype=float32), 1, 1.0, 6.0]\n",
      "[array([-0.02757871,  0.21232793,  0.17177692,  0.21289223], dtype=float32), 0, 1.0, 5.0]\n",
      "[array([-0.02333215,  0.01521959,  0.17603476,  0.5544578 ], dtype=float32), 1, 1.0, 4.0]\n",
      "[array([-0.02302776,  0.20748982,  0.18712391,  0.3219968 ], dtype=float32), 0, 1.0, 3.0]\n",
      "[array([-0.01887796,  0.01026471,  0.19356385,  0.6673641 ], dtype=float32), 1, 1.0, 2.0]\n",
      "[array([-0.01867267,  0.2022433 ,  0.20691113,  0.4413271 ], dtype=float32), 0, 1.0, 1.0]\n"
     ]
    }
   ],
   "source": [
    "# Getting the q-values(reward to go)\n",
    "q_values = []\n",
    "for sample in samples:\n",
    "    temp = []\n",
    "    for i in range(len(sample)):\n",
    "        q = 0\n",
    "        for t in range(i, len(sample)):\n",
    "            q += sample[t][2] # Adding the reward for time t at current trajectory\n",
    "        temp.append(q)\n",
    "    q_values.append(temp)\n",
    "\n",
    "# appending the q_values to the 'samples' list\n",
    "for i in range(len(q_values)):\n",
    "    for j in range(len(q_values[i])):\n",
    "        samples[i][j].append(q_values[i][j])\n",
    "        \n",
    "        \n",
    "        \n",
    "print('Now, one trajectory looks like this')\n",
    "for traj in samples[0]:\n",
    "    print(traj)"
   ]
  },
  {
   "cell_type": "code",
   "execution_count": 11,
   "metadata": {
    "ExecuteTime": {
     "end_time": "2022-01-08T03:29:09.622376Z",
     "start_time": "2022-01-08T03:29:09.537694Z"
    }
   },
   "outputs": [
    {
     "name": "stdout",
     "output_type": "stream",
     "text": [
      "tensor([0.5195, 0.5284, 0.5307,  ..., 0.5312, 0.5377, 0.5431],\n",
      "       grad_fn=<MaxBackward0>)\n"
     ]
    }
   ],
   "source": [
    "# shape of the list 'samples' => [trajectory][state, action, reward, q_value(reward to go)]\n",
    "# making a list(soon will be changed to tensors) for actions, states, q_values\n",
    "\n",
    "actions = []\n",
    "states = []\n",
    "q_values = []\n",
    "for sample in samples:\n",
    "    for state, action, reward, q_value in sample:\n",
    "        states.append(state)\n",
    "        actions.append(action)\n",
    "        q_values.append(q_value)\n",
    "\n",
    "actions = torch.from_numpy(np.array(actions))\n",
    "states = torch.from_numpy(np.array(states))\n",
    "q_values = torch.from_numpy(np.array(q_values))\n",
    "net_values = net(states).max(dim=1).values\n",
    "\n",
    "print(net_values)"
   ]
  },
  {
   "cell_type": "markdown",
   "metadata": {},
   "source": [
    "## backprop"
   ]
  },
  {
   "cell_type": "markdown",
   "metadata": {},
   "source": [
    "$$\n",
    "\\tilde{J}(\\theta) \\approx \\frac{1}{N}\\sum_{i=1}^N\\sum_{t=1}^T \\log{\\pi_\\theta \\left( a_{i,t} | s_{i,t} \\right)} \\hat{Q}_{i,t} \\\\\n",
    "$$"
   ]
  },
  {
   "cell_type": "code",
   "execution_count": 12,
   "metadata": {
    "ExecuteTime": {
     "end_time": "2022-01-08T03:29:17.246797Z",
     "start_time": "2022-01-08T03:29:17.236313Z"
    }
   },
   "outputs": [
    {
     "data": {
      "text/plain": [
       "(torch.Size([24034]), torch.Size([24034]))"
      ]
     },
     "execution_count": 12,
     "metadata": {},
     "output_type": "execute_result"
    }
   ],
   "source": [
    "q_values.shape, net_values.shape"
   ]
  },
  {
   "cell_type": "code",
   "execution_count": 13,
   "metadata": {
    "ExecuteTime": {
     "end_time": "2022-01-08T03:29:21.000958Z",
     "start_time": "2022-01-08T03:29:20.875198Z"
    }
   },
   "outputs": [],
   "source": [
    "# loss function is -(J tilde) (on the equation above)\n",
    "def loss_fn(net_val, q_val):\n",
    "    return -(torch.sum(torch.log(net_val) * q_val)) / N\n",
    "\n",
    "loss = loss_fn(net_values, q_values)\n",
    "\n",
    "# loss = F.cross_entropy(net(states), actions)\n",
    "\n",
    "\n",
    "# using Adam optimizer (because in the lecture it was mentioned to be okay)\n",
    "# the learning rate is from the codes of lecture 3\n",
    "optimizer = optim.Adam(net.parameters(), lr=1e-3)\n",
    "\n",
    "optimizer.zero_grad()\n",
    "loss.backward()\n",
    "optimizer.step()"
   ]
  },
  {
   "cell_type": "markdown",
   "metadata": {},
   "source": [
    "# All the codes for learning"
   ]
  },
  {
   "cell_type": "code",
   "execution_count": 190,
   "metadata": {
    "ExecuteTime": {
     "end_time": "2022-01-08T06:40:04.812682Z",
     "start_time": "2022-01-08T06:26:55.905127Z"
    }
   },
   "outputs": [
    {
     "name": "stderr",
     "output_type": "stream",
     "text": [
      "100%|██████████| 200/200 [13:08<00:00,  3.94s/it]\n"
     ]
    }
   ],
   "source": [
    "import gym\n",
    "import torch\n",
    "from torch import nn, optim\n",
    "from torch.distributions.categorical import Categorical\n",
    "import torch.nn.functional as F\n",
    "import numpy as np\n",
    "from tqdm import tqdm\n",
    "\n",
    "class Net(nn.Module):\n",
    "    def __init__(self, input_size=4, output_size=2):\n",
    "        super(Net, self).__init__()\n",
    "        self.fc1 = nn.Linear(input_size, 32)\n",
    "        self.fc2 = nn.Linear(32, 32)\n",
    "        self.fc3 = nn.Linear(32, output_size)\n",
    "\n",
    "    def forward(self, x):\n",
    "        x = F.relu(self.fc1(x))\n",
    "        x = F.relu(self.fc2(x))\n",
    "        x = F.softmax(self.fc3(x), dim=-1)\n",
    "        return x\n",
    "\n",
    "env = gym.make('CartPole-v0')\n",
    "N = 1000\n",
    "max_traj_len = 100 # T\n",
    "net = Net()\n",
    "# number of iterations\n",
    "epoch_size = 200\n",
    "\n",
    "def loss_fn(net_val, q_val):\n",
    "    return -(torch.sum(torch.log(net_val) * q_val) / N)\n",
    "\n",
    "optimizer = optim.Adam(net.parameters(), lr=1e-3)\n",
    "\n",
    "# to record the progress\n",
    "lasted_times = [] # a list for mean lasted time for each sample\n",
    "losses = []\n",
    "\n",
    "# Learning starts here\n",
    "for _ in tqdm(range(epoch_size)):\n",
    "    samples = [] # new samples, because VPG is on policy algo\n",
    "    \n",
    "    # a list for lasted time for each sample\n",
    "    one_epoch_lasted_times = []\n",
    "    for sample_i in range(N):\n",
    "        # initial state\n",
    "        observation = env.reset()\n",
    "        one_traj = []\n",
    "        for traj_step in range(max_traj_len):\n",
    "            # Use the distribution, sample!!\n",
    "            softmax_value = net(torch.from_numpy(observation)).detach()\n",
    "            action = Categorical(softmax_value).sample().item()\n",
    "            new_observation, reward, done, info = env.step(action)\n",
    "            one_traj.append([observation, action, reward]) # s, a, r\n",
    "            observation = new_observation\n",
    "            \n",
    "            if done or traj_step == (max_traj_len - 1):\n",
    "                samples.append(one_traj)\n",
    "                one_epoch_lasted_times.append(traj_step + 1)\n",
    "                break\n",
    "    \n",
    "    # appending the mean lasted time for each trajectory\n",
    "    lasted_times.append(sum(one_epoch_lasted_times) / len(one_epoch_lasted_times))\n",
    "                \n",
    "    # Getting the q-values(reward to go)\n",
    "    q_values = []\n",
    "    for sample in samples:\n",
    "        temp = []\n",
    "        for i in range(len(sample)):\n",
    "            q = 0\n",
    "            for t in range(i, len(sample)):\n",
    "                q += sample[t][2]\n",
    "            temp.append(q)\n",
    "        q_values.append(temp)\n",
    "    \n",
    "    # appending the q values to the samples list\n",
    "    for i in range(len(q_values)):\n",
    "        for j in range(len(q_values[i])):\n",
    "            samples[i][j].append(q_values[i][j]) # s, a, r, q\n",
    "    \n",
    "    # sample shape => [trajectory][state, action, reward, q_value(reward to go)]\n",
    "    # make torch.tensors for actions, states, q_values\n",
    "    actions = []\n",
    "    states = []\n",
    "    q_values = []\n",
    "    for sample in samples:\n",
    "        for state, action, reward, q_value in sample:\n",
    "            states.append(state)\n",
    "            actions.append(action)\n",
    "            q_values.append(q_value)\n",
    "\n",
    "    # actions = torch.from_numpy(np.array(actions))\n",
    "    states = torch.from_numpy(np.array(states))\n",
    "    q_values = torch.from_numpy(np.array(q_values))\n",
    "    net_values = net(states).max(dim=1).values\n",
    "    \n",
    "    loss = loss_fn(net_val=net_values, q_val=q_values)\n",
    "    losses.append(loss.data.detach())\n",
    "    optimizer.zero_grad()\n",
    "    loss.backward()\n",
    "    optimizer.step()"
   ]
  },
  {
   "cell_type": "markdown",
   "metadata": {},
   "source": [
    "# Visualize the lasted time for Epochs"
   ]
  },
  {
   "cell_type": "code",
   "execution_count": 191,
   "metadata": {
    "ExecuteTime": {
     "end_time": "2022-01-08T06:40:05.205985Z",
     "start_time": "2022-01-08T06:40:04.817635Z"
    }
   },
   "outputs": [
    {
     "data": {
      "image/png": "[encoded data removed]",
      "text/plain": [
       "<Figure size 432x288 with 1 Axes>"
      ]
     },
     "metadata": {
      "needs_background": "light"
     },
     "output_type": "display_data"
    }
   ],
   "source": [
    "import matplotlib.pyplot as plt\n",
    "plt.plot(lasted_times);"
   ]
  },
  {
   "cell_type": "code",
   "execution_count": 192,
   "metadata": {
    "ExecuteTime": {
     "end_time": "2022-01-08T06:40:05.470642Z",
     "start_time": "2022-01-08T06:40:05.217531Z"
    }
   },
   "outputs": [
    {
     "data": {
      "image/png": "[encoded data removed]",
      "text/plain": [
       "<Figure size 432x288 with 1 Axes>"
      ]
     },
     "metadata": {
      "needs_background": "light"
     },
     "output_type": "display_data"
    }
   ],
   "source": [
    "plt.plot(losses);"
   ]
  },
  {
   "cell_type": "code",
   "execution_count": 189,
   "metadata": {
    "ExecuteTime": {
     "end_time": "2022-01-08T05:59:44.798549Z",
     "start_time": "2022-01-08T05:59:44.787309Z"
    }
   },
   "outputs": [
    {
     "data": {
      "text/plain": [
       "tensor(0)"
      ]
     },
     "execution_count": 189,
     "metadata": {},
     "output_type": "execute_result"
    }
   ],
   "source": [
    "Categorical(softmax_value).sample()"
   ]
  },
  {
   "cell_type": "code",
   "execution_count": null,
   "metadata": {},
   "outputs": [],
   "source": []
  },
  {
   "cell_type": "markdown",
   "metadata": {},
   "source": [
    "# For CUDA"
   ]
  },
  {
   "cell_type": "code",
   "execution_count": null,
   "metadata": {},
   "outputs": [],
   "source": [
    "device = \"cuda\""
   ]
  },
  {
   "cell_type": "code",
   "execution_count": null,
   "metadata": {},
   "outputs": [],
   "source": [
    "import gym\n",
    "import torch\n",
    "from torch import nn, optim\n",
    "import torch.nn.functional as F\n",
    "import numpy as np\n",
    "from tqdm import tqdm\n",
    "\n",
    "class Net(nn.Module):\n",
    "    def __init__(self, input_size=4, output_size=2):\n",
    "        super(Net, self).__init__()\n",
    "        self.fc1 = nn.Linear(input_size, 32)\n",
    "        self.fc2 = nn.Linear(32, 32)\n",
    "        self.fc3 = nn.Linear(32, output_size)\n",
    "\n",
    "    def forward(self, x):\n",
    "        x = F.relu(self.fc1(x))\n",
    "        x = F.relu(self.fc2(x))\n",
    "        x = F.softmax(self.fc3(x), dim=-1)\n",
    "        return x  \n",
    "\n",
    "device = \"cuda\"\n",
    "    \n",
    "env = gym.make('CartPole-v0')\n",
    "N = 1000\n",
    "max_traj_len = 100 # T\n",
    "net = Net().to(device)\n",
    "# number of iterations\n",
    "epoch_size = 300\n",
    "\n",
    "def loss_fn(net_val, q_val):\n",
    "    return -(torch.sum(torch.log(net_val) * q_val)) / N\n",
    "\n",
    "optimizer = optim.Adam(net.parameters(), lr=1e-3)\n",
    "\n",
    "# to record the progress\n",
    "lasted_times = [] # a list for mean lasted time for each sample\n",
    "losses = []\n",
    "\n",
    "# Learning starts here\n",
    "for _ in tqdm(range(epoch_size)):\n",
    "    samples = [] # new samples, because VPG is on policy algo\n",
    "    \n",
    "    # a list for lasted time for each sample\n",
    "    one_epoch_lasted_times = []\n",
    "    for sample_i in range(N):\n",
    "        # initial state\n",
    "        observation = env.reset()\n",
    "        one_traj = []\n",
    "        for traj_step in range(max_traj_len):\n",
    "            action = net(torch.from_numpy(observation).to(device)).cpu().detach().numpy().argmax()\n",
    "            new_observation, reward, done, info = env.step(action)\n",
    "            one_traj.append([observation, action, reward])\n",
    "            observation = new_observation\n",
    "            if done or traj_step == (max_traj_len - 1):\n",
    "                samples.append(one_traj)\n",
    "                one_epoch_lasted_times.append(traj_step + 1)\n",
    "                break\n",
    "    \n",
    "    # appending the mean lasted time for each trajectory\n",
    "    lasted_times.append(sum(one_epoch_lasted_times) / len(one_epoch_lasted_times))\n",
    "                \n",
    "    # Getting the q-values(reward to go)\n",
    "    q_values = []\n",
    "    for sample in samples:\n",
    "        temp = []\n",
    "        for i in range(len(sample)):\n",
    "            q = 0\n",
    "            for t in range(i, len(sample)):\n",
    "                q += sample[t][2]\n",
    "            temp.append(q)\n",
    "        q_values.append(temp)\n",
    "    \n",
    "    # appending the q values to the samples list\n",
    "    for i in range(len(q_values)):\n",
    "        for j in range(len(q_values[i])):\n",
    "            samples[i][j].append(q_values[i][j])\n",
    "    \n",
    "    # sample shape => [trajectory][state, action, reward, q_value(reward to go)]\n",
    "    # make torch.tensors for actions, states, q_values\n",
    "    actions = []\n",
    "    states = []\n",
    "    q_values = []\n",
    "    for sample in samples:\n",
    "        for state, action, reward, q_value in sample:\n",
    "            states.append(state)\n",
    "            actions.append(action)\n",
    "            q_values.append(q_value)\n",
    "\n",
    "    actions = torch.from_numpy(np.array(actions)).to(device)\n",
    "    states = torch.from_numpy(np.array(states)).to(device)\n",
    "    q_values = torch.from_numpy(np.array(q_values)).to(device)\n",
    "    net_values = net(states).max(dim=1).values\n",
    "    \n",
    "    loss = loss_fn(net_val=net_values, q_val=q_values)\n",
    "    losses.append(loss.data.detach())\n",
    "    optimizer.zero_grad()\n",
    "    loss.backward()\n",
    "    optimizer.step()\n",
    "    \n",
    "    \n",
    "    \n",
    "print(lasted_times)"
   ]
  }
 ],
 "metadata": {
  "kernelspec": {
   "display_name": "Python 3",
   "language": "python",
   "name": "python3"
  },
  "language_info": {
   "codemirror_mode": {
    "name": "ipython",
    "version": 3
   },
   "file_extension": ".py",
   "mimetype": "text/x-python",
   "name": "python",
   "nbconvert_exporter": "python",
   "pygments_lexer": "ipython3",
   "version": "3.8.5"
  },
  "toc": {
   "base_numbering": 1,
   "nav_menu": {},
   "number_sections": true,
   "sideBar": true,
   "skip_h1_title": false,
   "title_cell": "Table of Contents",
   "title_sidebar": "Contents",
   "toc_cell": false,
   "toc_position": {},
   "toc_section_display": true,
   "toc_window_display": true
  }
 },
 "nbformat": 4,
 "nbformat_minor": 4
}
