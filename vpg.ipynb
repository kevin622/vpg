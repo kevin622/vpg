{
 "cells": [
  {
   "cell_type": "markdown",
   "metadata": {},
   "source": [
    "# Setting Up Environment"
   ]
  },
  {
   "cell_type": "code",
   "execution_count": 6,
   "metadata": {
    "ExecuteTime": {
     "end_time": "2022-01-09T07:51:30.135296Z",
     "start_time": "2022-01-09T07:51:30.128853Z"
    }
   },
   "outputs": [],
   "source": [
    "import gym"
   ]
  },
  {
   "cell_type": "markdown",
   "metadata": {},
   "source": [
    "## Cartpole Environment"
   ]
  },
  {
   "cell_type": "code",
   "execution_count": 7,
   "metadata": {
    "ExecuteTime": {
     "end_time": "2022-01-09T07:51:30.774226Z",
     "start_time": "2022-01-09T07:51:30.717304Z"
    }
   },
   "outputs": [],
   "source": [
    "env = gym.make('CartPole-v0')"
   ]
  },
  {
   "cell_type": "markdown",
   "metadata": {},
   "source": [
    "The rendered window env might stay unresponsive and some say this is due to jupyter notebook visualization problems.  \n",
    "Looking for a way to solve this."
   ]
  },
  {
   "cell_type": "markdown",
   "metadata": {},
   "source": [
    "Using GIF looks like one solution : https://rrbb014.tistory.com/44#openai-gym%EC%9D%84-jupyter-notebook%ED%99%98%EA%B2%BD%EC%97%90%EC%84%9C-%EC%8B%A4%ED%96%89%ED%95%98%EA%B8%B0-headless-playing"
   ]
  },
  {
   "cell_type": "code",
   "execution_count": 8,
   "metadata": {
    "ExecuteTime": {
     "end_time": "2022-01-09T07:51:31.420946Z",
     "start_time": "2022-01-09T07:51:31.387648Z"
    },
    "scrolled": false
   },
   "outputs": [
    {
     "name": "stdout",
     "output_type": "stream",
     "text": [
      "[-0.04197326  0.17854117 -0.04903103 -0.3222664 ] 1.0 False {}\n",
      "[-0.03840243  0.37432578 -0.05547636 -0.62999976] 1.0 False {}\n",
      "[-0.03091592  0.5701762  -0.06807635 -0.9396251 ] 1.0 False {}\n",
      "[-0.01951239  0.7661465  -0.08686885 -1.2528987 ] 1.0 False {}\n",
      "[-0.00418947  0.572238   -0.11192682 -0.98864007] 1.0 False {}\n",
      "[ 0.0072553   0.768666   -0.13169962 -1.3142762 ] 1.0 False {}\n",
      "[ 0.02262862  0.9651857  -0.15798515 -1.6451108 ] 1.0 False {}\n",
      "[ 0.04193233  1.1617644  -0.19088736 -1.9825613 ] 1.0 False {}\n",
      "[ 0.06516762  1.3583127  -0.23053859 -2.3278093 ] 1.0 True {}\n"
     ]
    }
   ],
   "source": [
    "env.reset()\n",
    "# let's see 10 timesteps with random action\n",
    "for _ in range(10):\n",
    "    # env.render()\n",
    "    observation, reward, done, info = env.step(env.action_space.sample())\n",
    "    print(observation, reward, done, info)\n",
    "    if done:\n",
    "        break\n",
    "# env.close()"
   ]
  },
  {
   "cell_type": "markdown",
   "metadata": {},
   "source": [
    "## Visualizing results"
   ]
  },
  {
   "cell_type": "markdown",
   "metadata": {},
   "source": [
    "When the whole training is going on, the graph will be the mean survived timesteps for each epochs.\n",
    "\n",
    "And the loss graph."
   ]
  },
  {
   "cell_type": "code",
   "execution_count": 9,
   "metadata": {
    "ExecuteTime": {
     "end_time": "2022-01-09T07:51:32.603623Z",
     "start_time": "2022-01-09T07:51:32.299519Z"
    }
   },
   "outputs": [
    {
     "data": {
      "image/png": "[encoded data removed]",
      "text/plain": [
       "<Figure size 432x288 with 1 Axes>"
      ]
     },
     "metadata": {
      "needs_background": "light"
     },
     "output_type": "display_data"
    }
   ],
   "source": [
    "import matplotlib.pyplot as plt\n",
    "plt.plot([1,2,2,2,3,4,5,5]);"
   ]
  },
  {
   "cell_type": "markdown",
   "metadata": {},
   "source": [
    "## Model(for policy)"
   ]
  },
  {
   "cell_type": "code",
   "execution_count": 10,
   "metadata": {
    "ExecuteTime": {
     "end_time": "2022-01-09T07:51:35.305124Z",
     "start_time": "2022-01-09T07:51:35.289373Z"
    }
   },
   "outputs": [],
   "source": [
    "import torch\n",
    "from torch import nn, optim\n",
    "import torch.nn.functional as F\n",
    "from torch.distributions.categorical import Categorical\n",
    "import numpy as np"
   ]
  },
  {
   "cell_type": "markdown",
   "metadata": {},
   "source": [
    "Simple Linear NN for the policy. It is from a code in CS285 lecture 3, except it uses softmax at the output layer."
   ]
  },
  {
   "cell_type": "code",
   "execution_count": 11,
   "metadata": {
    "ExecuteTime": {
     "end_time": "2022-01-09T07:51:35.768821Z",
     "start_time": "2022-01-09T07:51:35.758620Z"
    }
   },
   "outputs": [],
   "source": [
    "class Net(nn.Module):\n",
    "    def __init__(self, input_size=4, output_size=2):\n",
    "        super(Net, self).__init__()\n",
    "        self.fc1 = nn.Linear(input_size, 32)\n",
    "        self.fc2 = nn.Linear(32, 32)\n",
    "        self.fc3 = nn.Linear(32, output_size)\n",
    "\n",
    "    def forward(self, x):\n",
    "        x = F.relu(self.fc1(x))\n",
    "        x = F.relu(self.fc2(x))\n",
    "        x = F.softmax(self.fc3(x), dim=-1)\n",
    "        return x      "
   ]
  },
  {
   "cell_type": "code",
   "execution_count": 12,
   "metadata": {
    "ExecuteTime": {
     "end_time": "2022-01-09T07:51:36.615147Z",
     "start_time": "2022-01-09T07:51:36.567444Z"
    }
   },
   "outputs": [
    {
     "name": "stdout",
     "output_type": "stream",
     "text": [
      "Net(\n",
      "  (fc1): Linear(in_features=4, out_features=32, bias=True)\n",
      "  (fc2): Linear(in_features=32, out_features=32, bias=True)\n",
      "  (fc3): Linear(in_features=32, out_features=2, bias=True)\n",
      ")\n",
      "tensor([[0.6197, 0.3803],\n",
      "        [0.6075, 0.3925]], grad_fn=<SoftmaxBackward0>)\n"
     ]
    }
   ],
   "source": [
    "net = Net()\n",
    "print(net)\n",
    "\n",
    "# example of input\n",
    "print(net(torch.tensor([[1., 2., 3., 4.], [2., 3., 2., 2.]])))"
   ]
  },
  {
   "cell_type": "markdown",
   "metadata": {},
   "source": [
    "# Mathematics"
   ]
  },
  {
   "cell_type": "markdown",
   "metadata": {},
   "source": [
    "$$\n",
    "\\nabla_\\theta J(\\theta) \\approx \\frac{1}{N} \\sum_{i=1}^{N} \\sum_{t=1}^{T} \\nabla_\\theta \\log{\\pi_\\theta \\left( a_{i,t} | s_{i,t} \\right)}  \\left( \\sum_{t^\\prime=t}^{T} r\\left( s_{i,t}, a_{i,t} \\right) \\right) \\\\\n",
    "J(\\theta) = E_{\\tau~p_\\theta(\\tau)}\\left[ \\sum_{t}r(s_t, a_t) \\right] \\approx \\frac{1}{N}\\sum_i\\sum_{t}r(s_{i,t}, a_{i,t}) \\\\\n",
    "\\tilde{J}(\\theta) \\approx \\frac{1}{N}\\sum_{i=1}^N\\sum_{t=1}^T \\log{\\pi_\\theta \\left( a_{i,t} | s_{i,t} \\right)} \\hat{Q}_{i,t} \\\\\n",
    "$$"
   ]
  },
  {
   "cell_type": "markdown",
   "metadata": {},
   "source": [
    "$-\\tilde{J}(\\theta)$ will be used as the loss function"
   ]
  },
  {
   "cell_type": "markdown",
   "metadata": {},
   "source": [
    "$$\n",
    "\\theta \\leftarrow \\theta + \\alpha \\nabla_\\theta J(\\theta) \\\\ = \\theta - \\alpha \\nabla_\\theta (-J(\\theta))\n",
    "$$"
   ]
  },
  {
   "cell_type": "markdown",
   "metadata": {},
   "source": [
    "# The codes that will run to train"
   ]
  },
  {
   "cell_type": "code",
   "execution_count": 13,
   "metadata": {
    "ExecuteTime": {
     "end_time": "2022-01-09T07:51:41.451174Z",
     "start_time": "2022-01-09T07:51:41.446524Z"
    }
   },
   "outputs": [],
   "source": [
    "# number of samples(trajectories) for each iteration\n",
    "N = 1000\n",
    "\n",
    "# T(max length of the trajectory)\n",
    "max_traj_len = 100\n",
    "\n",
    "# The policy object\n",
    "net = Net()"
   ]
  },
  {
   "cell_type": "markdown",
   "metadata": {},
   "source": [
    "## run the policy to create N samples"
   ]
  },
  {
   "cell_type": "markdown",
   "metadata": {},
   "source": [
    "All information about samples will be stored in a list `samples`\n",
    "\n",
    "The final shape of the list `samples` will be\n",
    "\n",
    "__[nth_trajectory] [state, action, reward, q_value(reward to go)]__"
   ]
  },
  {
   "cell_type": "code",
   "execution_count": 14,
   "metadata": {
    "ExecuteTime": {
     "end_time": "2022-01-09T07:51:54.555652Z",
     "start_time": "2022-01-09T07:51:45.096935Z"
    },
    "scrolled": false
   },
   "outputs": [
    {
     "name": "stderr",
     "output_type": "stream",
     "text": [
      "100%|██████████| 1000/1000 [00:09<00:00, 106.18it/s]"
     ]
    },
    {
     "name": "stdout",
     "output_type": "stream",
     "text": [
      "one trajectory looks like this\n",
      "[array([-0.04805719, -0.01582284, -0.03693635, -0.01078723], dtype=float32), 1, 1.0]\n",
      "[array([-0.04837365,  0.17980883, -0.03715209, -0.3148914 ], dtype=float32), 0, 1.0]\n",
      "[array([-0.04477747, -0.01476476, -0.04344992, -0.03415263], dtype=float32), 0, 1.0]\n",
      "[array([-0.04507277, -0.20923756, -0.04413297,  0.244511  ], dtype=float32), 1, 1.0]\n",
      "[array([-0.04925752, -0.01351395, -0.03924275, -0.06175944], dtype=float32), 0, 1.0]\n",
      "[array([-0.0495278 , -0.20805192, -0.04047794,  0.21828844], dtype=float32), 1, 1.0]\n",
      "[array([-0.05368884, -0.01237541, -0.03611217, -0.08688315], dtype=float32), 1, 1.0]\n",
      "[array([-0.05393634,  0.18324506, -0.03784984, -0.39073724], dtype=float32), 0, 1.0]\n",
      "[array([-0.05027144, -0.01131983, -0.04566458, -0.11022411], dtype=float32), 1, 1.0]\n",
      "[array([-0.05049784,  0.18442573, -0.04786906, -0.41695708], dtype=float32), 0, 1.0]\n",
      "[array([-0.04680933, -0.00998631, -0.0562082 , -0.13974121], dtype=float32), 1, 1.0]\n",
      "[array([-0.04700905,  0.18589374, -0.05900303, -0.44961378], dtype=float32), 0, 1.0]\n",
      "[array([-0.04329118, -0.00834619, -0.0679953 , -0.17609774], dtype=float32), 1, 1.0]\n",
      "[array([-0.0434581 ,  0.18767965, -0.07151726, -0.48943225], dtype=float32), 0, 1.0]\n",
      "[array([-0.03970451, -0.00636434, -0.0813059 , -0.22011845], dtype=float32), 0, 1.0]\n",
      "[array([-0.03983179, -0.20023565, -0.08570827,  0.04585022], dtype=float32), 1, 1.0]\n",
      "[array([-0.04383651, -0.00399592, -0.08479127, -0.27259627], dtype=float32), 0, 1.0]\n",
      "[array([-0.04391643, -0.19781208, -0.09024319, -0.00781525], dtype=float32), 1, 1.0]\n",
      "[array([-0.04787267, -0.00151959, -0.0903995 , -0.32755136], dtype=float32), 1, 1.0]\n",
      "[array([-0.04790306,  0.19476527, -0.09695052, -0.6473177 ], dtype=float32), 1, 1.0]\n",
      "[array([-0.04400775,  0.39109477, -0.10989688, -0.9688878 ], dtype=float32), 1, 1.0]\n",
      "[array([-0.03618586,  0.58750683, -0.12927464, -1.2939733 ], dtype=float32), 1, 1.0]\n",
      "[array([-0.02443572,  0.7840126 , -0.1551541 , -1.6241734 ], dtype=float32), 1, 1.0]\n",
      "[array([-0.00875547,  0.980583  , -0.18763757, -1.9609196 ], dtype=float32), 0, 1.0]\n"
     ]
    },
    {
     "name": "stderr",
     "output_type": "stream",
     "text": [
      "\n"
     ]
    }
   ],
   "source": [
    "from tqdm import tqdm # to visualize the progress\n",
    "\n",
    "# new samples for every update, because VPG is an On-policy algorithm\n",
    "samples = []\n",
    "\n",
    "for sample_i in tqdm(range(N)):\n",
    "    # initial state\n",
    "    observation = env.reset()\n",
    "    one_traj = []\n",
    "    for traj_step in range(max_traj_len):\n",
    "        # rolling out the policy to get actions\n",
    "        softmax_value = net(torch.from_numpy(observation)).detach()\n",
    "        action = Categorical(softmax_value).sample().item()\n",
    "        new_observation, reward, done, info = env.step(action)\n",
    "        # append the [s, a, r] in a list\n",
    "        one_traj.append([observation, action, reward])\n",
    "        observation = new_observation\n",
    "        if done or traj_step == (max_traj_len - 1):\n",
    "            # append the trajectory in a list\n",
    "            samples.append(one_traj)\n",
    "            break\n",
    "\n",
    "print('one trajectory looks like this')\n",
    "for traj in samples[0]:\n",
    "    print(traj)"
   ]
  },
  {
   "cell_type": "markdown",
   "metadata": {},
   "source": [
    "## Getting the Q-values(reward to go)"
   ]
  },
  {
   "cell_type": "markdown",
   "metadata": {},
   "source": [
    "$$\n",
    "\\hat{Q}_{i,t} = \\sum^{T}_{t^\\prime=t}{r\\left( s_{i, t^\\prime} , a_{i, t^\\prime}\\right )}\n",
    "$$"
   ]
  },
  {
   "cell_type": "code",
   "execution_count": 15,
   "metadata": {
    "ExecuteTime": {
     "end_time": "2022-01-09T07:52:05.551043Z",
     "start_time": "2022-01-09T07:52:05.444982Z"
    }
   },
   "outputs": [
    {
     "name": "stdout",
     "output_type": "stream",
     "text": [
      "Now, one trajectory looks like this\n",
      "[array([-0.04805719, -0.01582284, -0.03693635, -0.01078723], dtype=float32), 1, 1.0, 24.0]\n",
      "[array([-0.04837365,  0.17980883, -0.03715209, -0.3148914 ], dtype=float32), 0, 1.0, 23.0]\n",
      "[array([-0.04477747, -0.01476476, -0.04344992, -0.03415263], dtype=float32), 0, 1.0, 22.0]\n",
      "[array([-0.04507277, -0.20923756, -0.04413297,  0.244511  ], dtype=float32), 1, 1.0, 21.0]\n",
      "[array([-0.04925752, -0.01351395, -0.03924275, -0.06175944], dtype=float32), 0, 1.0, 20.0]\n",
      "[array([-0.0495278 , -0.20805192, -0.04047794,  0.21828844], dtype=float32), 1, 1.0, 19.0]\n",
      "[array([-0.05368884, -0.01237541, -0.03611217, -0.08688315], dtype=float32), 1, 1.0, 18.0]\n",
      "[array([-0.05393634,  0.18324506, -0.03784984, -0.39073724], dtype=float32), 0, 1.0, 17.0]\n",
      "[array([-0.05027144, -0.01131983, -0.04566458, -0.11022411], dtype=float32), 1, 1.0, 16.0]\n",
      "[array([-0.05049784,  0.18442573, -0.04786906, -0.41695708], dtype=float32), 0, 1.0, 15.0]\n",
      "[array([-0.04680933, -0.00998631, -0.0562082 , -0.13974121], dtype=float32), 1, 1.0, 14.0]\n",
      "[array([-0.04700905,  0.18589374, -0.05900303, -0.44961378], dtype=float32), 0, 1.0, 13.0]\n",
      "[array([-0.04329118, -0.00834619, -0.0679953 , -0.17609774], dtype=float32), 1, 1.0, 12.0]\n",
      "[array([-0.0434581 ,  0.18767965, -0.07151726, -0.48943225], dtype=float32), 0, 1.0, 11.0]\n",
      "[array([-0.03970451, -0.00636434, -0.0813059 , -0.22011845], dtype=float32), 0, 1.0, 10.0]\n",
      "[array([-0.03983179, -0.20023565, -0.08570827,  0.04585022], dtype=float32), 1, 1.0, 9.0]\n",
      "[array([-0.04383651, -0.00399592, -0.08479127, -0.27259627], dtype=float32), 0, 1.0, 8.0]\n",
      "[array([-0.04391643, -0.19781208, -0.09024319, -0.00781525], dtype=float32), 1, 1.0, 7.0]\n",
      "[array([-0.04787267, -0.00151959, -0.0903995 , -0.32755136], dtype=float32), 1, 1.0, 6.0]\n",
      "[array([-0.04790306,  0.19476527, -0.09695052, -0.6473177 ], dtype=float32), 1, 1.0, 5.0]\n",
      "[array([-0.04400775,  0.39109477, -0.10989688, -0.9688878 ], dtype=float32), 1, 1.0, 4.0]\n",
      "[array([-0.03618586,  0.58750683, -0.12927464, -1.2939733 ], dtype=float32), 1, 1.0, 3.0]\n",
      "[array([-0.02443572,  0.7840126 , -0.1551541 , -1.6241734 ], dtype=float32), 1, 1.0, 2.0]\n",
      "[array([-0.00875547,  0.980583  , -0.18763757, -1.9609196 ], dtype=float32), 0, 1.0, 1.0]\n"
     ]
    }
   ],
   "source": [
    "# Getting the q-values(reward to go)\n",
    "q_values = []\n",
    "for sample in samples:\n",
    "    temp = []\n",
    "    for i in range(len(sample)):\n",
    "        q = 0\n",
    "        for t in range(i, len(sample)):\n",
    "            q += sample[t][2] # Adding the reward for time t at current trajectory\n",
    "        temp.append(q)\n",
    "    q_values.append(temp)\n",
    "\n",
    "# appending the q_values to the 'samples' list\n",
    "for i in range(len(q_values)):\n",
    "    for j in range(len(q_values[i])):\n",
    "        samples[i][j].append(q_values[i][j])\n",
    "        \n",
    "        \n",
    "        \n",
    "print('Now, one trajectory looks like this')\n",
    "for traj in samples[0]:\n",
    "    print(traj)"
   ]
  },
  {
   "cell_type": "code",
   "execution_count": 16,
   "metadata": {
    "ExecuteTime": {
     "end_time": "2022-01-09T07:52:25.384541Z",
     "start_time": "2022-01-09T07:52:25.333090Z"
    }
   },
   "outputs": [
    {
     "data": {
      "text/plain": [
       "tensor([1, 0, 0,  ..., 0, 1, 1])"
      ]
     },
     "execution_count": 16,
     "metadata": {},
     "output_type": "execute_result"
    }
   ],
   "source": [
    "# shape of the list 'samples' => [trajectory][state, action, reward, q_value(reward to go)]\n",
    "# making a list(soon will be changed to tensors) for actions, states, q_values\n",
    "\n",
    "actions = []\n",
    "states = []\n",
    "q_values = []\n",
    "for sample in samples:\n",
    "    for state, action, reward, q_value in sample:\n",
    "        states.append(state)\n",
    "        actions.append(action)\n",
    "        q_values.append(q_value)\n",
    "\n",
    "actions = torch.from_numpy(np.array(actions))\n",
    "states = torch.from_numpy(np.array(states))\n",
    "q_values = torch.from_numpy(np.array(q_values))\n",
    "net_values = net(states)[range(len(actions)), actions]\n",
    "\n",
    "print(net_values)"
   ]
  },
  {
   "cell_type": "markdown",
   "metadata": {},
   "source": [
    "## backprop"
   ]
  },
  {
   "cell_type": "markdown",
   "metadata": {},
   "source": [
    "$$\n",
    "\\tilde{J}(\\theta) \\approx \\frac{1}{N}\\sum_{i=1}^N\\sum_{t=1}^T \\log{\\pi_\\theta \\left( a_{i,t} | s_{i,t} \\right)} \\hat{Q}_{i,t} \\\\\n",
    "$$"
   ]
  },
  {
   "cell_type": "markdown",
   "metadata": {},
   "source": [
    "and use $-\\tilde{J}(\\theta)$ as loss"
   ]
  },
  {
   "cell_type": "code",
   "execution_count": 12,
   "metadata": {
    "ExecuteTime": {
     "end_time": "2022-01-08T03:29:17.246797Z",
     "start_time": "2022-01-08T03:29:17.236313Z"
    }
   },
   "outputs": [
    {
     "data": {
      "text/plain": [
       "(torch.Size([24034]), torch.Size([24034]))"
      ]
     },
     "execution_count": 12,
     "metadata": {},
     "output_type": "execute_result"
    }
   ],
   "source": [
    "q_values.shape, net_values.shape"
   ]
  },
  {
   "cell_type": "code",
   "execution_count": 13,
   "metadata": {
    "ExecuteTime": {
     "end_time": "2022-01-08T03:29:21.000958Z",
     "start_time": "2022-01-08T03:29:20.875198Z"
    }
   },
   "outputs": [],
   "source": [
    "# loss function is -(J tilde) (on the equation above)\n",
    "def loss_fn(net_val, q_val):\n",
    "    return -(torch.sum(torch.log(net_val) * q_val)) / N\n",
    "\n",
    "loss = loss_fn(net_values, q_values)\n",
    "\n",
    "# loss = F.cross_entropy(net(states), actions)\n",
    "\n",
    "\n",
    "# using Adam optimizer (because in the lecture it was mentioned to be okay)\n",
    "# the learning rate is from the codes of lecture 3\n",
    "optimizer = optim.Adam(net.parameters(), lr=1e-3)\n",
    "\n",
    "optimizer.zero_grad()\n",
    "loss.backward()\n",
    "optimizer.step()"
   ]
  },
  {
   "cell_type": "markdown",
   "metadata": {},
   "source": [
    "# All the codes for learning"
   ]
  },
  {
   "cell_type": "code",
   "execution_count": 1,
   "metadata": {
    "ExecuteTime": {
     "end_time": "2022-01-09T09:28:11.805791Z",
     "start_time": "2022-01-09T08:04:31.254836Z"
    }
   },
   "outputs": [
    {
     "name": "stderr",
     "output_type": "stream",
     "text": [
      "100%|██████████| 200/200 [1:23:35<00:00, 25.08s/it]\n"
     ]
    }
   ],
   "source": [
    "import gym\n",
    "import torch\n",
    "from torch import nn, optim\n",
    "from torch.distributions.categorical import Categorical\n",
    "import torch.nn.functional as F\n",
    "import numpy as np\n",
    "from tqdm import tqdm\n",
    "\n",
    "class Net(nn.Module):\n",
    "    def __init__(self, input_size=4, output_size=2):\n",
    "        super(Net, self).__init__()\n",
    "        self.fc1 = nn.Linear(input_size, 32)\n",
    "        self.fc2 = nn.Linear(32, 32)\n",
    "        self.fc3 = nn.Linear(32, output_size)\n",
    "\n",
    "    def forward(self, x):\n",
    "        x = F.relu(self.fc1(x))\n",
    "        x = F.relu(self.fc2(x))\n",
    "        x = F.softmax(self.fc3(x), dim=-1)\n",
    "        return x\n",
    "\n",
    "env = gym.make('CartPole-v0')\n",
    "N = 1000\n",
    "max_traj_len = 100 # T\n",
    "net = Net()\n",
    "# number of iterations\n",
    "epoch_size = 200\n",
    "\n",
    "def loss_fn(net_val, q_val):\n",
    "    return -(torch.sum(torch.log(net_val) * q_val) / N)\n",
    "\n",
    "optimizer = optim.Adam(net.parameters(), lr=1e-3)\n",
    "\n",
    "# to record the progress\n",
    "lasted_times = [] # a list for mean lasted time for each sample\n",
    "losses = []\n",
    "\n",
    "# Learning starts here\n",
    "for _ in tqdm(range(epoch_size)):\n",
    "    samples = [] # new samples, because VPG is on policy algo\n",
    "    \n",
    "    # a list for lasted time for each sample\n",
    "    one_epoch_lasted_times = []\n",
    "    for sample_i in range(N):\n",
    "        # initial state\n",
    "        observation = env.reset()\n",
    "        one_traj = []\n",
    "        for traj_step in range(max_traj_len):\n",
    "            # Use the distribution, sample!!\n",
    "            softmax_value = net(torch.from_numpy(observation)).detach()\n",
    "            # [0.1, 0.9]\n",
    "            action = Categorical(softmax_value).sample().item()\n",
    "            # action = 0 or 1\n",
    "            new_observation, reward, done, info = env.step(action)\n",
    "            one_traj.append([observation, action, reward]) # s, a, r\n",
    "            observation = new_observation\n",
    "            \n",
    "            if done or traj_step == (max_traj_len - 1):\n",
    "                samples.append(one_traj)\n",
    "                one_epoch_lasted_times.append(traj_step + 1)\n",
    "                break\n",
    "    \n",
    "    # appending the mean lasted time for each trajectory\n",
    "    lasted_times.append(sum(one_epoch_lasted_times) / len(one_epoch_lasted_times))\n",
    "                \n",
    "    # Getting the q-values(reward to go)\n",
    "    q_values = []\n",
    "    for sample in samples:\n",
    "        temp = []\n",
    "        # try to change getting q_Vals into one for loop\n",
    "        # doing it backwards(dp)\n",
    "        for i in range(len(sample)):\n",
    "            # sample[i] => i'th timestep at sample(one episode)\n",
    "            q = 0\n",
    "            for t in range(i, len(sample)):\n",
    "                q += sample[t][2]\n",
    "            temp.append(q)\n",
    "        q_values.append(temp)\n",
    "    \n",
    "    # appending the q values to the samples list\n",
    "    for i in range(len(q_values)):\n",
    "        for j in range(len(q_values[i])):\n",
    "            samples[i][j].append(q_values[i][j]) # s, a, r, q\n",
    "    \n",
    "    # sample shape => [trajectory][state, action, reward, q_value(reward to go)]\n",
    "    # make torch.tensors for actions, states, q_values\n",
    "    actions = []\n",
    "    states = []\n",
    "    q_values = []\n",
    "    for sample in samples:\n",
    "        for state, action, reward, q_value in sample:\n",
    "            states.append(state)\n",
    "            actions.append(action)\n",
    "            q_values.append(q_value)\n",
    "\n",
    "    # actions = torch.from_numpy(np.array(actions))\n",
    "    states = torch.from_numpy(np.array(states))\n",
    "    q_values = torch.from_numpy(np.array(q_values))\n",
    "    net_values = net(states)[range(len(actions)), actions]\n",
    "    \n",
    "    loss = loss_fn(net_val=net_values, q_val=q_values)\n",
    "    losses.append(loss.data.detach())\n",
    "    optimizer.zero_grad()\n",
    "    loss.backward()\n",
    "    optimizer.step()"
   ]
  },
  {
   "cell_type": "markdown",
   "metadata": {},
   "source": [
    "# Visualize the lasted time for Epochs"
   ]
  },
  {
   "cell_type": "code",
   "execution_count": 2,
   "metadata": {
    "ExecuteTime": {
     "end_time": "2022-01-09T09:28:12.783440Z",
     "start_time": "2022-01-09T09:28:11.814519Z"
    }
   },
   "outputs": [
    {
     "data": {
      "image/png": "[encoded data removed]",
      "text/plain": [
       "<Figure size 432x288 with 1 Axes>"
      ]
     },
     "metadata": {
      "needs_background": "light"
     },
     "output_type": "display_data"
    }
   ],
   "source": [
    "import matplotlib.pyplot as plt\n",
    "plt.plot(lasted_times);"
   ]
  },
  {
   "cell_type": "code",
   "execution_count": 3,
   "metadata": {
    "ExecuteTime": {
     "end_time": "2022-01-09T09:28:12.951744Z",
     "start_time": "2022-01-09T09:28:12.791993Z"
    }
   },
   "outputs": [
    {
     "data": {
      "image/png": "[encoded data removed]",
      "text/plain": [
       "<Figure size 432x288 with 1 Axes>"
      ]
     },
     "metadata": {
      "needs_background": "light"
     },
     "output_type": "display_data"
    }
   ],
   "source": [
    "plt.plot(losses);"
   ]
  },
  {
   "cell_type": "code",
   "execution_count": null,
   "metadata": {},
   "outputs": [],
   "source": []
  },
  {
   "cell_type": "code",
   "execution_count": null,
   "metadata": {},
   "outputs": [],
   "source": []
  },
  {
   "cell_type": "code",
   "execution_count": null,
   "metadata": {},
   "outputs": [],
   "source": []
  },
  {
   "cell_type": "markdown",
   "metadata": {},
   "source": [
    "# For CUDA"
   ]
  },
  {
   "cell_type": "code",
   "execution_count": null,
   "metadata": {},
   "outputs": [],
   "source": [
    "device = \"cuda\""
   ]
  },
  {
   "cell_type": "code",
   "execution_count": null,
   "metadata": {},
   "outputs": [],
   "source": [
    "import gym\n",
    "import torch\n",
    "from torch import nn, optim\n",
    "import torch.nn.functional as F\n",
    "import numpy as np\n",
    "from tqdm import tqdm\n",
    "\n",
    "class Net(nn.Module):\n",
    "    def __init__(self, input_size=4, output_size=2):\n",
    "        super(Net, self).__init__()\n",
    "        self.fc1 = nn.Linear(input_size, 32)\n",
    "        self.fc2 = nn.Linear(32, 32)\n",
    "        self.fc3 = nn.Linear(32, output_size)\n",
    "\n",
    "    def forward(self, x):\n",
    "        x = F.relu(self.fc1(x))\n",
    "        x = F.relu(self.fc2(x))\n",
    "        x = F.softmax(self.fc3(x), dim=-1)\n",
    "        return x  \n",
    "\n",
    "device = \"cuda\"\n",
    "    \n",
    "env = gym.make('CartPole-v0')\n",
    "N = 1000\n",
    "max_traj_len = 100 # T\n",
    "net = Net().to(device)\n",
    "# number of iterations\n",
    "epoch_size = 300\n",
    "\n",
    "def loss_fn(net_val, q_val):\n",
    "    return -(torch.sum(torch.log(net_val) * q_val)) / N\n",
    "\n",
    "optimizer = optim.Adam(net.parameters(), lr=1e-3)\n",
    "\n",
    "# to record the progress\n",
    "lasted_times = [] # a list for mean lasted time for each sample\n",
    "losses = []\n",
    "\n",
    "# Learning starts here\n",
    "for _ in tqdm(range(epoch_size)):\n",
    "    samples = [] # new samples, because VPG is on policy algo\n",
    "    \n",
    "    # a list for lasted time for each sample\n",
    "    one_epoch_lasted_times = []\n",
    "    for sample_i in range(N):\n",
    "        # initial state\n",
    "        observation = env.reset()\n",
    "        one_traj = []\n",
    "        for traj_step in range(max_traj_len):\n",
    "            action = net(torch.from_numpy(observation).to(device)).cpu().detach().numpy().argmax()\n",
    "            new_observation, reward, done, info = env.step(action)\n",
    "            one_traj.append([observation, action, reward])\n",
    "            observation = new_observation\n",
    "            if done or traj_step == (max_traj_len - 1):\n",
    "                samples.append(one_traj)\n",
    "                one_epoch_lasted_times.append(traj_step + 1)\n",
    "                break\n",
    "    \n",
    "    # appending the mean lasted time for each trajectory\n",
    "    lasted_times.append(sum(one_epoch_lasted_times) / len(one_epoch_lasted_times))\n",
    "                \n",
    "    # Getting the q-values(reward to go)\n",
    "    q_values = []\n",
    "    for sample in samples:\n",
    "        temp = []\n",
    "        for i in range(len(sample)):\n",
    "            q = 0\n",
    "            for t in range(i, len(sample)):\n",
    "                q += sample[t][2]\n",
    "            temp.append(q)\n",
    "        q_values.append(temp)\n",
    "    \n",
    "    # appending the q values to the samples list\n",
    "    for i in range(len(q_values)):\n",
    "        for j in range(len(q_values[i])):\n",
    "            samples[i][j].append(q_values[i][j])\n",
    "    \n",
    "    # sample shape => [trajectory][state, action, reward, q_value(reward to go)]\n",
    "    # make torch.tensors for actions, states, q_values\n",
    "    actions = []\n",
    "    states = []\n",
    "    q_values = []\n",
    "    for sample in samples:\n",
    "        for state, action, reward, q_value in sample:\n",
    "            states.append(state)\n",
    "            actions.append(action)\n",
    "            q_values.append(q_value)\n",
    "\n",
    "    actions = torch.from_numpy(np.array(actions)).to(device)\n",
    "    states = torch.from_numpy(np.array(states)).to(device)\n",
    "    q_values = torch.from_numpy(np.array(q_values)).to(device)\n",
    "    net_values = net(states).max(dim=1).values\n",
    "    \n",
    "    loss = loss_fn(net_val=net_values, q_val=q_values)\n",
    "    losses.append(loss.data.detach())\n",
    "    optimizer.zero_grad()\n",
    "    loss.backward()\n",
    "    optimizer.step()\n",
    "    \n",
    "    \n",
    "    \n",
    "print(lasted_times)"
   ]
  }
 ],
 "metadata": {
  "kernelspec": {
   "display_name": "Python 3",
   "language": "python",
   "name": "python3"
  },
  "language_info": {
   "codemirror_mode": {
    "name": "ipython",
    "version": 3
   },
   "file_extension": ".py",
   "mimetype": "text/x-python",
   "name": "python",
   "nbconvert_exporter": "python",
   "pygments_lexer": "ipython3",
   "version": "3.8.5"
  },
  "toc": {
   "base_numbering": 1,
   "nav_menu": {},
   "number_sections": true,
   "sideBar": true,
   "skip_h1_title": false,
   "title_cell": "Table of Contents",
   "title_sidebar": "Contents",
   "toc_cell": false,
   "toc_position": {},
   "toc_section_display": true,
   "toc_window_display": true
  }
 },
 "nbformat": 4,
 "nbformat_minor": 4
}
