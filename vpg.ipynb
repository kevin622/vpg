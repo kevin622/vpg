{
 "cells": [
  {
   "cell_type": "markdown",
   "metadata": {},
   "source": [
    "# Setting Up Environment"
   ]
  },
  {
   "cell_type": "code",
   "execution_count": 1,
   "metadata": {
    "ExecuteTime": {
     "end_time": "2022-01-07T05:22:49.128290Z",
     "start_time": "2022-01-07T05:22:47.219793Z"
    }
   },
   "outputs": [],
   "source": [
    "import gym"
   ]
  },
  {
   "cell_type": "markdown",
   "metadata": {},
   "source": [
    "## Cartpole Environment"
   ]
  },
  {
   "cell_type": "code",
   "execution_count": 2,
   "metadata": {
    "ExecuteTime": {
     "end_time": "2022-01-07T05:22:49.160085Z",
     "start_time": "2022-01-07T05:22:49.144909Z"
    }
   },
   "outputs": [],
   "source": [
    "env = gym.make('CartPole-v0')"
   ]
  },
  {
   "cell_type": "markdown",
   "metadata": {},
   "source": [
    "The rendered window env might stay unresponsive and some say this is due to jupyter notebook visualization problems.  \n",
    "Looking for a way to solve this."
   ]
  },
  {
   "cell_type": "markdown",
   "metadata": {},
   "source": [
    "Using GIF looks like one solution : https://rrbb014.tistory.com/44#openai-gym%EC%9D%84-jupyter-notebook%ED%99%98%EA%B2%BD%EC%97%90%EC%84%9C-%EC%8B%A4%ED%96%89%ED%95%98%EA%B8%B0-headless-playing"
   ]
  },
  {
   "cell_type": "code",
   "execution_count": 3,
   "metadata": {
    "ExecuteTime": {
     "end_time": "2022-01-07T05:22:51.273574Z",
     "start_time": "2022-01-07T05:22:51.252591Z"
    },
    "scrolled": false
   },
   "outputs": [
    {
     "name": "stdout",
     "output_type": "stream",
     "text": [
      "[-0.04116347  0.1556333  -0.04725857 -0.30391526] 1.0 False {}\n",
      "[-0.0380508  -0.03878441 -0.05333687 -0.02650315] 1.0 False {}\n",
      "[-0.03882649 -0.23310252 -0.05386694  0.24888588] 1.0 False {}\n",
      "[-0.04348854 -0.42741546 -0.04888922  0.52410334] 1.0 False {}\n",
      "[-0.05203685 -0.23164079 -0.03840715  0.2164245 ] 1.0 False {}\n",
      "[-0.05666967 -0.03599143 -0.03407866 -0.08812205] 1.0 False {}\n",
      "[-0.0573895  -0.23060875 -0.0358411   0.19361724] 1.0 False {}\n",
      "[-0.06200167 -0.42520016 -0.03196876  0.47478187] 1.0 False {}\n",
      "[-0.07050567 -0.6198564  -0.02247312  0.75721985] 1.0 False {}\n",
      "[-0.0829028  -0.81466156 -0.00732872  1.0427473 ] 1.0 False {}\n"
     ]
    }
   ],
   "source": [
    "env.reset()\n",
    "# let's see 10 timesteps with random action\n",
    "for _ in range(10):\n",
    "    # env.render()\n",
    "    observation, reward, done, info = env.step(env.action_space.sample())\n",
    "    print(observation, reward, done, info)\n",
    "    if done:\n",
    "        break\n",
    "# env.close()"
   ]
  },
  {
   "cell_type": "markdown",
   "metadata": {},
   "source": [
    "## Visualizing results"
   ]
  },
  {
   "cell_type": "markdown",
   "metadata": {},
   "source": [
    "When the whole training is going on, the graph will be the mean survived timesteps for each epochs.\n",
    "\n",
    "And the loss graph."
   ]
  },
  {
   "cell_type": "code",
   "execution_count": 4,
   "metadata": {
    "ExecuteTime": {
     "end_time": "2022-01-07T05:22:54.402936Z",
     "start_time": "2022-01-07T05:22:53.537427Z"
    }
   },
   "outputs": [
    {
     "data": {
      "image/png": "[encoded data removed]",
      "text/plain": [
       "<Figure size 432x288 with 1 Axes>"
      ]
     },
     "metadata": {
      "needs_background": "light"
     },
     "output_type": "display_data"
    }
   ],
   "source": [
    "import matplotlib.pyplot as plt\n",
    "plt.plot([1,2,2,2,3,4,5,5]);"
   ]
  },
  {
   "cell_type": "markdown",
   "metadata": {},
   "source": [
    "## Model(for policy)"
   ]
  },
  {
   "cell_type": "code",
   "execution_count": 5,
   "metadata": {
    "ExecuteTime": {
     "end_time": "2022-01-07T05:22:59.324918Z",
     "start_time": "2022-01-07T05:22:55.576151Z"
    }
   },
   "outputs": [],
   "source": [
    "import torch\n",
    "from torch import nn, optim\n",
    "import torch.nn.functional as F\n",
    "import numpy as np"
   ]
  },
  {
   "cell_type": "markdown",
   "metadata": {},
   "source": [
    "Simple Linear NN for the policy. It is from a code in CS285 lecture 3, except it uses softmax at the output layer."
   ]
  },
  {
   "cell_type": "code",
   "execution_count": 6,
   "metadata": {
    "ExecuteTime": {
     "end_time": "2022-01-07T05:23:00.124118Z",
     "start_time": "2022-01-07T05:23:00.116552Z"
    }
   },
   "outputs": [],
   "source": [
    "class Net(nn.Module):\n",
    "    def __init__(self, input_size=4, output_size=2):\n",
    "        super(Net, self).__init__()\n",
    "        self.fc1 = nn.Linear(input_size, 32)\n",
    "        self.fc2 = nn.Linear(32, 32)\n",
    "        self.fc3 = nn.Linear(32, output_size)\n",
    "\n",
    "    def forward(self, x):\n",
    "        x = F.relu(self.fc1(x))\n",
    "        x = F.relu(self.fc2(x))\n",
    "        x = F.softmax(self.fc3(x), dim=-1)\n",
    "        return x      "
   ]
  },
  {
   "cell_type": "code",
   "execution_count": 7,
   "metadata": {
    "ExecuteTime": {
     "end_time": "2022-01-07T05:23:01.858046Z",
     "start_time": "2022-01-07T05:23:01.774929Z"
    }
   },
   "outputs": [
    {
     "name": "stdout",
     "output_type": "stream",
     "text": [
      "Net(\n",
      "  (fc1): Linear(in_features=4, out_features=32, bias=True)\n",
      "  (fc2): Linear(in_features=32, out_features=32, bias=True)\n",
      "  (fc3): Linear(in_features=32, out_features=2, bias=True)\n",
      ")\n",
      "tensor([[0.4483, 0.5517],\n",
      "        [0.4801, 0.5199]], grad_fn=<SoftmaxBackward0>)\n"
     ]
    }
   ],
   "source": [
    "net = Net()\n",
    "print(net)\n",
    "\n",
    "# example of input\n",
    "print(net(torch.tensor([[1., 2., 3., 4.], [2., 3., 2., 2.]])))"
   ]
  },
  {
   "cell_type": "markdown",
   "metadata": {},
   "source": [
    "# Mathematics"
   ]
  },
  {
   "cell_type": "markdown",
   "metadata": {},
   "source": [
    "$$\n",
    "\\nabla_\\theta J(\\theta) \\approx \\frac{1}{N} \\sum_{i=1}^{N} \\sum_{t=1}^{T} \\nabla_\\theta \\log{\\pi_\\theta \\left( a_{i,t} | s_{i,t} \\right)}  \\left( \\sum_{t^\\prime=t}^{T} r\\left( s_{i,t}, a_{i,t} \\right) \\right) \\\\\n",
    "J(\\theta) = E_{\\tau~p_\\theta(\\tau)}\\left[ \\sum_{t}r(s_t, a_t) \\right] \\approx \\frac{1}{N}\\sum_i\\sum_{t}r(s_{i,t}, a_{i,t}) \\\\\n",
    "\\tilde{J}(\\theta) \\approx \\frac{1}{N}\\sum_{i=1}^N\\sum_{t=1}^T \\log{\\pi_\\theta \\left( a_{i,t} | s_{i,t} \\right)} \\hat{Q}_{i,t} \\\\\n",
    "$$"
   ]
  },
  {
   "cell_type": "markdown",
   "metadata": {},
   "source": [
    "$-\\tilde{J}(\\theta)$ will be used as the loss function"
   ]
  },
  {
   "cell_type": "markdown",
   "metadata": {},
   "source": [
    "$$\n",
    "\\theta \\leftarrow \\theta + \\alpha \\nabla_\\theta J(\\theta) \\\\ = \\theta - \\alpha \\nabla_\\theta (-J(\\theta))\n",
    "$$"
   ]
  },
  {
   "cell_type": "markdown",
   "metadata": {},
   "source": [
    "# The codes that will run to train"
   ]
  },
  {
   "cell_type": "code",
   "execution_count": 29,
   "metadata": {
    "ExecuteTime": {
     "end_time": "2022-01-07T05:50:00.436876Z",
     "start_time": "2022-01-07T05:50:00.406395Z"
    }
   },
   "outputs": [],
   "source": [
    "# number of samples(trajectories) for each iteration\n",
    "N = 1000\n",
    "\n",
    "# T(max length of the trajectory)\n",
    "max_traj_len = 100 \n",
    "\n",
    "# The policy object\n",
    "net = Net()"
   ]
  },
  {
   "cell_type": "markdown",
   "metadata": {},
   "source": [
    "## run the policy to create N samples"
   ]
  },
  {
   "cell_type": "markdown",
   "metadata": {},
   "source": [
    "All information about samples will be stored in a list `samples`\n",
    "\n",
    "The final shape of the list `samples` will be\n",
    "\n",
    "__[nth_trajectory] [state, action, reward, q_value(reward to go)]__"
   ]
  },
  {
   "cell_type": "code",
   "execution_count": 30,
   "metadata": {
    "ExecuteTime": {
     "end_time": "2022-01-07T05:50:05.332365Z",
     "start_time": "2022-01-07T05:50:02.745772Z"
    },
    "scrolled": true
   },
   "outputs": [
    {
     "name": "stderr",
     "output_type": "stream",
     "text": [
      "100%|██████████| 1000/1000 [00:02<00:00, 396.25it/s]\n"
     ]
    },
    {
     "name": "stdout",
     "output_type": "stream",
     "text": [
      "one trajectory looks like this\n",
      "[array([-0.00102793, -0.19694796, -0.04403863,  0.2293415 ], dtype=float32), 0, 1.0]\n",
      "[array([-0.00496689, -0.39141384, -0.03945181,  0.50781435], dtype=float32), 0, 1.0]\n",
      "[array([-0.01279516, -0.58595836, -0.02929552,  0.78780824], dtype=float32), 0, 1.0]\n",
      "[array([-0.02451433, -0.78066593, -0.01353936,  1.0711325 ], dtype=float32), 0, 1.0]\n",
      "[array([-0.04012765, -0.97560626,  0.0078833 ,  1.3595358 ], dtype=float32), 0, 1.0]\n",
      "[array([-0.05963977, -1.1708262 ,  0.03507401,  1.6546743 ], dtype=float32), 0, 1.0]\n",
      "[array([-0.08305629, -1.3663394 ,  0.0681675 ,  1.9580735 ], dtype=float32), 0, 1.0]\n",
      "[array([-0.11038309, -1.5621147 ,  0.10732897,  2.27108   ], dtype=float32), 0, 1.0]\n",
      "[array([-0.14162537, -1.7580606 ,  0.15275057,  2.5948017 ], dtype=float32), 0, 1.0]\n",
      "[array([-0.17678659, -1.9540079 ,  0.2046466 ,  2.9300346 ], dtype=float32), 0, 1.0]\n",
      "[array([-0.21586674, -2.14969   ,  0.2632473 ,  3.27718   ], dtype=float32), 0, 1.0]\n"
     ]
    }
   ],
   "source": [
    "from tqdm import tqdm # to visualize the progress\n",
    "\n",
    "# new samples for every update, because VPG is an On-policy algorithm\n",
    "samples = []\n",
    "\n",
    "for sample_i in tqdm(range(N)):\n",
    "    # initial state\n",
    "    observation = env.reset()\n",
    "    one_traj = []\n",
    "    for traj_step in range(max_traj_len):\n",
    "        # rolling out the policy to get actions\n",
    "        action = net(torch.from_numpy(observation)).detach().numpy().argmax()\n",
    "        observation, reward, done, info = env.step(action)\n",
    "        \n",
    "        # append the [s, a, r] in a list\n",
    "        one_traj.append([observation, action, reward])\n",
    "        if done or traj_step == (max_traj_len - 1):\n",
    "            # append the trajectory in a list\n",
    "            samples.append(one_traj)\n",
    "            break\n",
    "\n",
    "print('one trajectory looks like this')\n",
    "for traj in samples[0]:\n",
    "    print(traj)"
   ]
  },
  {
   "cell_type": "markdown",
   "metadata": {},
   "source": [
    "## Getting the Q-values(reward to go)"
   ]
  },
  {
   "cell_type": "markdown",
   "metadata": {},
   "source": [
    "$$\n",
    "\\hat{Q}_{i,t} = \\sum^{T}_{t^\\prime=t}{r\\left( s_{i, t^\\prime} , a_{i, t^\\prime}\\right )}\n",
    "$$"
   ]
  },
  {
   "cell_type": "code",
   "execution_count": 12,
   "metadata": {
    "ExecuteTime": {
     "end_time": "2022-01-07T05:27:02.186184Z",
     "start_time": "2022-01-07T05:27:02.126780Z"
    }
   },
   "outputs": [
    {
     "name": "stdout",
     "output_type": "stream",
     "text": [
      "Now, one trajectory looks like this\n",
      "[array([ 0.03760169, -0.20999046, -0.00239286,  0.2592567 ], dtype=float32), 0, 1.0, 13.0]\n",
      "[array([ 0.03340188, -0.40507817,  0.00279228,  0.55118394], dtype=float32), 0, 1.0, 12.0]\n",
      "[array([ 0.02530031, -0.6002392 ,  0.01381595,  0.8447453 ], dtype=float32), 0, 1.0, 11.0]\n",
      "[array([ 0.01329553, -0.79554695,  0.03071086,  1.1417407 ], dtype=float32), 0, 1.0, 10.0]\n",
      "[array([-0.00261541, -0.60083956,  0.05354567,  0.8588449 ], dtype=float32), 1, 1.0, 9.0]\n",
      "[array([-0.0146322 , -0.7966484 ,  0.07072257,  1.1678721 ], dtype=float32), 0, 1.0, 8.0]\n",
      "[array([-0.03056517, -0.6025142 ,  0.09408002,  0.89817387], dtype=float32), 1, 1.0, 7.0]\n",
      "[array([-0.04261545, -0.7987768 ,  0.11204349,  1.2188846 ], dtype=float32), 0, 1.0, 6.0]\n",
      "[array([-0.05859099, -0.6052633 ,  0.13642119,  0.9633063 ], dtype=float32), 1, 1.0, 5.0]\n",
      "[array([-0.07069626, -0.8019282 ,  0.1556873 ,  1.2955465 ], dtype=float32), 0, 1.0, 4.0]\n",
      "[array([-0.08673482, -0.6090885 ,  0.18159823,  1.0553728 ], dtype=float32), 1, 1.0, 3.0]\n",
      "[array([-0.09891659, -0.80609155,  0.2027057 ,  1.3991151 ], dtype=float32), 0, 1.0, 2.0]\n",
      "[array([-0.11503842, -0.613983  ,  0.23068799,  1.1760404 ], dtype=float32), 1, 1.0, 1.0]\n"
     ]
    }
   ],
   "source": [
    "# Getting the q-values(reward to go)\n",
    "q_values = []\n",
    "for sample in samples:\n",
    "    temp = []\n",
    "    for i in range(len(sample)):\n",
    "        q = 0\n",
    "        for t in range(i, len(sample)):\n",
    "            q += sample[t][2] # Adding the reward for time t at current trajectory\n",
    "        temp.append(q)\n",
    "    q_values.append(temp)\n",
    "\n",
    "# appending the q_values to the 'samples' list\n",
    "for i in range(len(q_values)):\n",
    "    for j in range(len(q_values[i])):\n",
    "        samples[i][j].append(q_values[i][j])\n",
    "        \n",
    "        \n",
    "        \n",
    "print('Now, one trajectory looks like this')\n",
    "for traj in samples[0]:\n",
    "    print(traj)"
   ]
  },
  {
   "cell_type": "code",
   "execution_count": 13,
   "metadata": {
    "ExecuteTime": {
     "end_time": "2022-01-07T05:27:39.753717Z",
     "start_time": "2022-01-07T05:27:39.707941Z"
    }
   },
   "outputs": [],
   "source": [
    "# shape of the list 'samples' => [trajectory][state, action, reward, q_value(reward to go)]\n",
    "# making a list(soon will be changed to tensors) for actions, states, q_values\n",
    "\n",
    "actions = []\n",
    "states = []\n",
    "q_values = []\n",
    "for sample in samples:\n",
    "    for state, action, reward, q_value in sample:\n",
    "        states.append(state)\n",
    "        actions.append(action)\n",
    "        q_values.append(q_value)\n",
    "\n",
    "actions = torch.from_numpy(np.array(actions))\n",
    "states = torch.from_numpy(np.array(states))\n",
    "q_values = torch.from_numpy(np.array(q_values))\n",
    "net_values = net(states).max(dim=1).values"
   ]
  },
  {
   "cell_type": "markdown",
   "metadata": {},
   "source": [
    "## backprop"
   ]
  },
  {
   "cell_type": "markdown",
   "metadata": {},
   "source": [
    "$$\n",
    "\\tilde{J}(\\theta) \\approx \\frac{1}{N}\\sum_{i=1}^N\\sum_{t=1}^T \\log{\\pi_\\theta \\left( a_{i,t} | s_{i,t} \\right)} \\hat{Q}_{i,t} \\\\\n",
    "$$"
   ]
  },
  {
   "cell_type": "code",
   "execution_count": 51,
   "metadata": {
    "ExecuteTime": {
     "end_time": "2022-01-07T06:25:07.550185Z",
     "start_time": "2022-01-07T06:25:07.512871Z"
    }
   },
   "outputs": [],
   "source": [
    "# loss function is -(J tilde) (on the equation above)\n",
    "def loss_fn(net_val, q_val):\n",
    "    return -(torch.sum(torch.log(net_val) * q_val, dim=-1)) / N\n",
    "\n",
    "loss = loss_fn(net_values, q_values)\n",
    "\n",
    "# loss = F.cross_entropy(net(states), actions)\n",
    "\n",
    "\n",
    "# using Adam optimizer (because in the lecture it was mentioned to be okay)\n",
    "# the learning rate is from the codes of lecture 3\n",
    "optimizer = optim.Adam(net.parameters(), lr=1e-3)\n",
    "\n",
    "optimizer.zero_grad()\n",
    "loss.backward()\n",
    "optimizer.step()"
   ]
  },
  {
   "cell_type": "markdown",
   "metadata": {},
   "source": [
    "# All the codes for learning"
   ]
  },
  {
   "cell_type": "code",
   "execution_count": 34,
   "metadata": {
    "ExecuteTime": {
     "end_time": "2022-01-07T06:02:56.892138Z",
     "start_time": "2022-01-07T05:54:09.566939Z"
    }
   },
   "outputs": [
    {
     "name": "stderr",
     "output_type": "stream",
     "text": [
      "100%|██████████| 300/300 [08:47<00:00,  1.76s/it]\n"
     ]
    }
   ],
   "source": [
    "import gym\n",
    "import torch\n",
    "from torch import nn, optim\n",
    "import torch.nn.functional as F\n",
    "import numpy as np\n",
    "from tqdm import tqdm\n",
    "\n",
    "class Net(nn.Module):\n",
    "    def __init__(self, input_size=4, output_size=2):\n",
    "        super(Net, self).__init__()\n",
    "        self.fc1 = nn.Linear(input_size, 32)\n",
    "        self.fc2 = nn.Linear(32, 32)\n",
    "        self.fc3 = nn.Linear(32, output_size)\n",
    "\n",
    "    def forward(self, x):\n",
    "        x = F.relu(self.fc1(x))\n",
    "        x = F.relu(self.fc2(x))\n",
    "        x = F.softmax(self.fc3(x), dim=-1)\n",
    "        return x  \n",
    "\n",
    "env = gym.make('CartPole-v0')\n",
    "N = 1000\n",
    "max_traj_len = 100 # T\n",
    "net = Net()\n",
    "# number of iterations\n",
    "epoch_size = 300\n",
    "\n",
    "def loss_fn(net_val, q_val):\n",
    "    return -(torch.sum(torch.log(net_val) * q_val)) / N\n",
    "\n",
    "optimizer = optim.Adam(net.parameters(), lr=1e-3)\n",
    "\n",
    "# to record the progress\n",
    "lasted_times = [] # a list for mean lasted time for each sample\n",
    "losses = []\n",
    "\n",
    "\n",
    "for _ in tqdm(range(epoch_size)):\n",
    "    samples = [] # new samples, because VPG is on policy algo\n",
    "    \n",
    "    # a list for lasted time for each sample\n",
    "    one_epoch_lasted_times = []\n",
    "    for sample_i in range(N):\n",
    "        # initial state\n",
    "        observation = env.reset()\n",
    "        one_traj = []\n",
    "        for traj_step in range(max_traj_len):\n",
    "            action = net(torch.from_numpy(observation)).detach().numpy().argmax()\n",
    "            observation, reward, done, info = env.step(action)\n",
    "            one_traj.append([observation, action, reward])\n",
    "            if done or traj_step == (max_traj_len - 1):\n",
    "                samples.append(one_traj)\n",
    "                one_epoch_lasted_times.append(traj_step + 1)\n",
    "                break\n",
    "    \n",
    "    # appending the mean lasted time for each trajectory\n",
    "    lasted_times.append(sum(one_epoch_lasted_times) / len(one_epoch_lasted_times))\n",
    "                \n",
    "    # Getting the q-values(reward to go)\n",
    "    q_values = []\n",
    "    for sample in samples:\n",
    "        temp = []\n",
    "        for i in range(len(sample)):\n",
    "            q = 0\n",
    "            for t in range(i, len(sample)):\n",
    "                q += sample[t][2]\n",
    "            temp.append(q)\n",
    "        q_values.append(temp)\n",
    "    \n",
    "    # appending the q values to the samples list\n",
    "    for i in range(len(q_values)):\n",
    "        for j in range(len(q_values[i])):\n",
    "            samples[i][j].append(q_values[i][j])\n",
    "    \n",
    "    # sample shape => [trajectory][state, action, reward, q_value(reward to go)]\n",
    "    # make torch.tensors for actions, states, q_values\n",
    "    actions = []\n",
    "    states = []\n",
    "    q_values = []\n",
    "    for sample in samples:\n",
    "        for state, action, reward, q_value in sample:\n",
    "            states.append(state)\n",
    "            actions.append(action)\n",
    "            q_values.append(q_value)\n",
    "\n",
    "    actions = torch.from_numpy(np.array(actions))\n",
    "    states = torch.from_numpy(np.array(states))\n",
    "    q_values = torch.from_numpy(np.array(q_values))\n",
    "    net_values = net(states).max(dim=1).values\n",
    "    \n",
    "    loss = loss_fn(net_val=net_values, q_val=q_values)\n",
    "    losses.append(loss.data.detach())\n",
    "    optimizer.zero_grad()\n",
    "    loss.backward()\n",
    "    optimizer.step()"
   ]
  },
  {
   "cell_type": "markdown",
   "metadata": {},
   "source": [
    "# Visualize the lasted time for Epochs"
   ]
  },
  {
   "cell_type": "code",
   "execution_count": 35,
   "metadata": {
    "ExecuteTime": {
     "end_time": "2022-01-07T06:02:57.160566Z",
     "start_time": "2022-01-07T06:02:56.900262Z"
    }
   },
   "outputs": [
    {
     "data": {
      "image/png": "[encoded data removed]",
      "text/plain": [
       "<Figure size 432x288 with 1 Axes>"
      ]
     },
     "metadata": {
      "needs_background": "light"
     },
     "output_type": "display_data"
    }
   ],
   "source": [
    "import matplotlib.pyplot as plt\n",
    "plt.plot(lasted_times);"
   ]
  },
  {
   "cell_type": "code",
   "execution_count": 36,
   "metadata": {
    "ExecuteTime": {
     "end_time": "2022-01-07T06:02:57.400518Z",
     "start_time": "2022-01-07T06:02:57.177695Z"
    }
   },
   "outputs": [
    {
     "data": {
      "image/png": "[encoded data removed]",
      "text/plain": [
       "<Figure size 432x288 with 1 Axes>"
      ]
     },
     "metadata": {
      "needs_background": "light"
     },
     "output_type": "display_data"
    }
   ],
   "source": [
    "plt.plot(losses);"
   ]
  },
  {
   "cell_type": "code",
   "execution_count": null,
   "metadata": {},
   "outputs": [],
   "source": []
  }
 ],
 "metadata": {
  "kernelspec": {
   "display_name": "Python 3",
   "language": "python",
   "name": "python3"
  },
  "language_info": {
   "codemirror_mode": {
    "name": "ipython",
    "version": 3
   },
   "file_extension": ".py",
   "mimetype": "text/x-python",
   "name": "python",
   "nbconvert_exporter": "python",
   "pygments_lexer": "ipython3",
   "version": "3.8.5"
  },
  "toc": {
   "base_numbering": 1,
   "nav_menu": {},
   "number_sections": true,
   "sideBar": true,
   "skip_h1_title": false,
   "title_cell": "Table of Contents",
   "title_sidebar": "Contents",
   "toc_cell": false,
   "toc_position": {},
   "toc_section_display": true,
   "toc_window_display": true
  }
 },
 "nbformat": 4,
 "nbformat_minor": 4
}
